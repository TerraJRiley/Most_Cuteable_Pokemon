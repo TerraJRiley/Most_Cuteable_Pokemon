{
 "cells": [
  {
   "cell_type": "code",
   "execution_count": 1,
   "metadata": {},
   "outputs": [],
   "source": [
    "# Standard Imports for all notebooks\n",
    "import pandas as pd\n",
    "import numpy as np\n",
    "import matplotlib.pyplot as plt\n",
    "import seaborn as sns\n",
    "%matplotlib inline"
   ]
  },
  {
   "cell_type": "code",
   "execution_count": 2,
   "metadata": {},
   "outputs": [],
   "source": [
    "# Other Quality of Life Imports\n",
    "from time import time\n",
    "from datetime import datetime\n",
    "datetime.fromtimestamp(time()).strftime('%m/%d/%Y, %H:%M:%S')\n",
    "\n",
    "import warnings\n",
    "warnings.filterwarnings('ignore')"
   ]
  },
  {
   "cell_type": "code",
   "execution_count": 3,
   "metadata": {},
   "outputs": [],
   "source": [
    "# Selenium\n",
    "# Scraping Libraries\n",
    "from bs4 import BeautifulSoup\n",
    "import requests\n",
    "from time import sleep\n",
    "import re\n"
   ]
  },
  {
   "cell_type": "code",
   "execution_count": 4,
   "metadata": {},
   "outputs": [],
   "source": [
    "get_dex = requests.get(\"https://bulbapedia.bulbagarden.net/wiki/List_of_Pok%C3%A9mon_by_Blueberry_Pok%C3%A9dex_number\")"
   ]
  },
  {
   "cell_type": "code",
   "execution_count": 5,
   "metadata": {},
   "outputs": [],
   "source": [
    "html_dex = BeautifulSoup(get_dex.text, \"lxml\")"
   ]
  },
  {
   "cell_type": "code",
   "execution_count": null,
   "metadata": {},
   "outputs": [],
   "source": []
  },
  {
   "cell_type": "code",
   "execution_count": 9,
   "metadata": {},
   "outputs": [],
   "source": [
    "df = pd.read_html(get_dex.text)[0]"
   ]
  },
  {
   "cell_type": "code",
   "execution_count": 12,
   "metadata": {},
   "outputs": [],
   "source": [
    "df = df.drop([\"MS\",\"Type\",\"Type.1\",\"Image\"], axis=1)"
   ]
  },
  {
   "cell_type": "code",
   "execution_count": 19,
   "metadata": {},
   "outputs": [],
   "source": [
    "df[\"Ndex\"] = df[\"Ndex\"].map(lambda x: int(x.replace(\"#\",\"\")))"
   ]
  },
  {
   "cell_type": "code",
   "execution_count": 23,
   "metadata": {},
   "outputs": [
    {
     "data": {
      "text/html": [
       "<div>\n",
       "<style scoped>\n",
       "    .dataframe tbody tr th:only-of-type {\n",
       "        vertical-align: middle;\n",
       "    }\n",
       "\n",
       "    .dataframe tbody tr th {\n",
       "        vertical-align: top;\n",
       "    }\n",
       "\n",
       "    .dataframe thead th {\n",
       "        text-align: right;\n",
       "    }\n",
       "</style>\n",
       "<table border=\"1\" class=\"dataframe\">\n",
       "  <thead>\n",
       "    <tr style=\"text-align: right;\">\n",
       "      <th></th>\n",
       "      <th>BBdex</th>\n",
       "      <th>Ndex</th>\n",
       "      <th>Pokémon</th>\n",
       "    </tr>\n",
       "  </thead>\n",
       "  <tbody>\n",
       "    <tr>\n",
       "      <th>179</th>\n",
       "      <td>#164</td>\n",
       "      <td>1</td>\n",
       "      <td>Bulbasaur</td>\n",
       "    </tr>\n",
       "    <tr>\n",
       "      <th>180</th>\n",
       "      <td>#165</td>\n",
       "      <td>2</td>\n",
       "      <td>Ivysaur</td>\n",
       "    </tr>\n",
       "    <tr>\n",
       "      <th>181</th>\n",
       "      <td>#166</td>\n",
       "      <td>3</td>\n",
       "      <td>Venusaur</td>\n",
       "    </tr>\n",
       "    <tr>\n",
       "      <th>182</th>\n",
       "      <td>#167</td>\n",
       "      <td>4</td>\n",
       "      <td>Charmander</td>\n",
       "    </tr>\n",
       "    <tr>\n",
       "      <th>183</th>\n",
       "      <td>#168</td>\n",
       "      <td>5</td>\n",
       "      <td>Charmeleon</td>\n",
       "    </tr>\n",
       "    <tr>\n",
       "      <th>...</th>\n",
       "      <td>...</td>\n",
       "      <td>...</td>\n",
       "      <td>...</td>\n",
       "    </tr>\n",
       "    <tr>\n",
       "      <th>252</th>\n",
       "      <td>#237</td>\n",
       "      <td>1021</td>\n",
       "      <td>Raging Bolt</td>\n",
       "    </tr>\n",
       "    <tr>\n",
       "      <th>254</th>\n",
       "      <td>#239</td>\n",
       "      <td>1022</td>\n",
       "      <td>Iron Boulder</td>\n",
       "    </tr>\n",
       "    <tr>\n",
       "      <th>253</th>\n",
       "      <td>#238</td>\n",
       "      <td>1023</td>\n",
       "      <td>Iron Crown</td>\n",
       "    </tr>\n",
       "    <tr>\n",
       "      <th>255</th>\n",
       "      <td>#240</td>\n",
       "      <td>1024</td>\n",
       "      <td>Terapagos</td>\n",
       "    </tr>\n",
       "    <tr>\n",
       "      <th>258</th>\n",
       "      <td>#243</td>\n",
       "      <td>1025</td>\n",
       "      <td>Pecharunt</td>\n",
       "    </tr>\n",
       "  </tbody>\n",
       "</table>\n",
       "<p>259 rows × 3 columns</p>\n",
       "</div>"
      ],
      "text/plain": [
       "    BBdex  Ndex       Pokémon\n",
       "179  #164     1     Bulbasaur\n",
       "180  #165     2       Ivysaur\n",
       "181  #166     3      Venusaur\n",
       "182  #167     4    Charmander\n",
       "183  #168     5    Charmeleon\n",
       "..    ...   ...           ...\n",
       "252  #237  1021   Raging Bolt\n",
       "254  #239  1022  Iron Boulder\n",
       "253  #238  1023    Iron Crown\n",
       "255  #240  1024     Terapagos\n",
       "258  #243  1025     Pecharunt\n",
       "\n",
       "[259 rows x 3 columns]"
      ]
     },
     "execution_count": 23,
     "metadata": {},
     "output_type": "execute_result"
    }
   ],
   "source": [
    "df.sort_values(\"Ndex\")"
   ]
  },
  {
   "cell_type": "code",
   "execution_count": null,
   "metadata": {},
   "outputs": [],
   "source": []
  },
  {
   "cell_type": "code",
   "execution_count": null,
   "metadata": {},
   "outputs": [],
   "source": []
  },
  {
   "cell_type": "code",
   "execution_count": null,
   "metadata": {},
   "outputs": [],
   "source": []
  },
  {
   "cell_type": "code",
   "execution_count": null,
   "metadata": {},
   "outputs": [],
   "source": []
  },
  {
   "cell_type": "code",
   "execution_count": null,
   "metadata": {},
   "outputs": [],
   "source": []
  },
  {
   "cell_type": "code",
   "execution_count": null,
   "metadata": {},
   "outputs": [],
   "source": []
  },
  {
   "cell_type": "code",
   "execution_count": null,
   "metadata": {},
   "outputs": [],
   "source": []
  },
  {
   "cell_type": "code",
   "execution_count": null,
   "metadata": {},
   "outputs": [],
   "source": []
  },
  {
   "cell_type": "code",
   "execution_count": null,
   "metadata": {},
   "outputs": [],
   "source": []
  },
  {
   "cell_type": "code",
   "execution_count": null,
   "metadata": {},
   "outputs": [],
   "source": []
  },
  {
   "cell_type": "code",
   "execution_count": null,
   "metadata": {},
   "outputs": [],
   "source": []
  },
  {
   "cell_type": "code",
   "execution_count": 15,
   "metadata": {},
   "outputs": [],
   "source": [
    "list_dex = []\n",
    "for num in range(1,5):\n",
    "    for str_poke in pd.read_html(get_dex.text)[num][\"Pokémon\"]:\n",
    "        list_dex.append(str_poke)"
   ]
  },
  {
   "cell_type": "code",
   "execution_count": 16,
   "metadata": {},
   "outputs": [],
   "source": [
    "# Original Version\n",
    "list_dex = [x.replace(\" \", \"-\"\n",
    "            ).replace(\".\",\"\"\n",
    "            ).replace(\"'\",\"\"\n",
    "            ).replace(\"Normal\", \"\"\n",
    "            #).replace(\"shelloswest-sea\",\"shellos\"\n",
    "            #).replace(\"plant-cloak\",\"\"\n",
    "            ).lower() for x in list_dex if \"Form\" not in x]\n",
    "list_dex.append([\"burmy\", \"shellos\", \"gastrodon\"])"
   ]
  },
  {
   "cell_type": "code",
   "execution_count": 17,
   "metadata": {},
   "outputs": [
    {
     "name": "stdout",
     "output_type": "stream",
     "text": [
      "nidoran♀  was skipped.\n",
      "nidoran♂  was skipped.\n",
      "unownone-form  was skipped.\n",
      "kyogrekyogre  was skipped.\n",
      "groudongroudon  was skipped.\n",
      "burmyplant-cloak  was skipped.\n",
      "burmysandy-cloak  was skipped.\n",
      "burmytrash-cloak  was skipped.\n",
      "wormadamplant-cloak  was skipped.\n",
      "wormadamsandy-cloak  was skipped.\n",
      "wormadamtrash-cloak  was skipped.\n",
      "shelloswest-sea  was skipped.\n",
      "shelloseast-sea  was skipped.\n",
      "gastrodonwest-sea  was skipped.\n",
      "gastrodoneast-sea  was skipped.\n",
      "rotomrotom  was skipped.\n",
      "rotomheat-rotom  was skipped.\n",
      "rotomwash-rotom  was skipped.\n",
      "rotomfrost-rotom  was skipped.\n",
      "rotomfan-rotom  was skipped.\n",
      "rotommow-rotom  was skipped.\n",
      "arceusarceus  was skipped.\n",
      "['burmy', 'shellos', 'gastrodon']  was skipped.\n"
     ]
    }
   ],
   "source": [
    "dict_pokemon = {}\n",
    "for pokemon in list_dex:\n",
    "    try:\n",
    "        json_species = requests.get(\"https://pokeapi.co/api/v2/pokemon-species/\" + pokemon).json()\n",
    "        json_encounters = requests.get(\"https://pokeapi.co/api/v2/pokemon/\" + pokemon + \"/encounters\").json()\n",
    "        dict_pokemon[pokemon] = {\"Gender Rate\"  : json_species[\"gender_rate\"],\n",
    "                                     \"Encounters\"   : json_encounters,\n",
    "                                     \"Evolves From\" : json_species[\"evolves_from_species\"]}\n",
    "    except:\n",
    "        print(pokemon, \" was skipped.\")"
   ]
  },
  {
   "cell_type": "code",
   "execution_count": 18,
   "metadata": {},
   "outputs": [],
   "source": [
    "#dict_row = {}\n",
    "list_row_dicts = []\n",
    "for key_one_pokemon in list(dict_pokemon.keys()):\n",
    "    for dict_two_encounter in dict_pokemon[key_one_pokemon][\"Encounters\"]:\n",
    "        #print(dict_two_encounter)\n",
    "        #for dict_ugh_version in dict_two_encounter:\n",
    "        #    print(\"-----\")\n",
    "        #    print(dict_ugh_version)\n",
    "        for dict_tre_version in dict_two_encounter[\"version_details\"]:#[\"encounter_details\"]:\n",
    "            #print(\"---\")\n",
    "            #print(dict_tre_version)\n",
    "            for dict_for_ent_details in dict_tre_version[\"encounter_details\"]:\n",
    "                #print(\"---\")\n",
    "                #print(dict_for_ent_details)\n",
    "                #print(dict_for_ent_details.keys())\n",
    "                dict_row = {\n",
    "                    \"Pokemon\"      : key_one_pokemon,\n",
    "                    \"Gender\"       : dict_pokemon[key_one_pokemon][\"Gender Rate\"],\n",
    "                    \"Location\"     : dict_two_encounter[\"location_area\"][\"name\"],\n",
    "                    #\"Max_Chance\"   : dict_tre_version[\"max_chance\"],\n",
    "                    \"Version\"      : dict_tre_version[\"version\"][\"name\"],\n",
    "                    \"Chance\"       : dict_for_ent_details[\"chance\"],\n",
    "                    \"Condition\"    : dict_for_ent_details[\"condition_values\"],#[\"name\"],\n",
    "                    \"Max Level\"    : dict_for_ent_details[\"max_level\"],\n",
    "                    \"Min Level\"    : dict_for_ent_details[\"min_level\"],\n",
    "                    \"Method\"       : dict_for_ent_details[\"method\"][\"name\"],\n",
    "                    \"Evolves From\" : dict_pokemon[key_one_pokemon][\"Evolves From\"]\n",
    "                }\n",
    "            list_row_dicts.append(dict_row)\n",
    "df = pd.DataFrame(list_row_dicts)\n",
    "#df.head(20)"
   ]
  },
  {
   "cell_type": "code",
   "execution_count": 20,
   "metadata": {},
   "outputs": [],
   "source": [
    "df_cute = df[(df[\"Gender\"] > 0) &\n",
    "  (df[\"Gender\"] != 8)]"
   ]
  },
  {
   "cell_type": "markdown",
   "metadata": {},
   "source": [
    "# Bring your own data prep"
   ]
  },
  {
   "cell_type": "code",
   "execution_count": 21,
   "metadata": {},
   "outputs": [],
   "source": [
    "df_cute = df_cute[(df_cute[\"Version\"] == \"soulsilver\")|\n",
    "    (df_cute[\"Version\"] == \"heartgold\" )|\n",
    "    (df_cute[\"Version\"] == \"pearl\"    )| \n",
    "    (df_cute[\"Version\"] == \"diamond\"   )|\n",
    "    (df_cute[\"Version\"] == \"platinum\")  ]"
   ]
  },
  {
   "cell_type": "code",
   "execution_count": 22,
   "metadata": {
    "scrolled": true
   },
   "outputs": [
    {
     "data": {
      "text/plain": [
       "walk             3819\n",
       "surf              768\n",
       "super-rod         675\n",
       "good-rod          372\n",
       "gift               40\n",
       "rock-smash         36\n",
       "only-one           17\n",
       "gift-egg           12\n",
       "pokeflute           4\n",
       "old-rod             2\n",
       "squirt-bottle       2\n",
       "Name: Method, dtype: int64"
      ]
     },
     "execution_count": 22,
     "metadata": {},
     "output_type": "execute_result"
    }
   ],
   "source": [
    "df_cute[\"Method\"].value_counts()"
   ]
  },
  {
   "cell_type": "code",
   "execution_count": 23,
   "metadata": {},
   "outputs": [
    {
     "data": {
      "text/html": [
       "<div>\n",
       "<style scoped>\n",
       "    .dataframe tbody tr th:only-of-type {\n",
       "        vertical-align: middle;\n",
       "    }\n",
       "\n",
       "    .dataframe tbody tr th {\n",
       "        vertical-align: top;\n",
       "    }\n",
       "\n",
       "    .dataframe thead th {\n",
       "        text-align: right;\n",
       "    }\n",
       "</style>\n",
       "<table border=\"1\" class=\"dataframe\">\n",
       "  <thead>\n",
       "    <tr style=\"text-align: right;\">\n",
       "      <th></th>\n",
       "      <th>Pokemon</th>\n",
       "      <th>Gender</th>\n",
       "      <th>Location</th>\n",
       "      <th>Version</th>\n",
       "      <th>Chance</th>\n",
       "      <th>Condition</th>\n",
       "      <th>Max Level</th>\n",
       "      <th>Min Level</th>\n",
       "      <th>Method</th>\n",
       "      <th>Evolves From</th>\n",
       "    </tr>\n",
       "  </thead>\n",
       "  <tbody>\n",
       "    <tr>\n",
       "      <th>8764</th>\n",
       "      <td>magikarp</td>\n",
       "      <td>4</td>\n",
       "      <td>johto-safari-zone-zone-wetland</td>\n",
       "      <td>heartgold</td>\n",
       "      <td>10</td>\n",
       "      <td>[]</td>\n",
       "      <td>15</td>\n",
       "      <td>15</td>\n",
       "      <td>old-rod</td>\n",
       "      <td>None</td>\n",
       "    </tr>\n",
       "    <tr>\n",
       "      <th>8765</th>\n",
       "      <td>magikarp</td>\n",
       "      <td>4</td>\n",
       "      <td>johto-safari-zone-zone-wetland</td>\n",
       "      <td>soulsilver</td>\n",
       "      <td>10</td>\n",
       "      <td>[]</td>\n",
       "      <td>15</td>\n",
       "      <td>15</td>\n",
       "      <td>old-rod</td>\n",
       "      <td>None</td>\n",
       "    </tr>\n",
       "  </tbody>\n",
       "</table>\n",
       "</div>"
      ],
      "text/plain": [
       "       Pokemon  Gender                        Location     Version  Chance  \\\n",
       "8764  magikarp       4  johto-safari-zone-zone-wetland   heartgold      10   \n",
       "8765  magikarp       4  johto-safari-zone-zone-wetland  soulsilver      10   \n",
       "\n",
       "     Condition  Max Level  Min Level   Method Evolves From  \n",
       "8764        []         15         15  old-rod         None  \n",
       "8765        []         15         15  old-rod         None  "
      ]
     },
     "execution_count": 23,
     "metadata": {},
     "output_type": "execute_result"
    }
   ],
   "source": [
    "df_cute[df_cute[\"Method\"] == \"old-rod\"]"
   ]
  },
  {
   "cell_type": "code",
   "execution_count": 24,
   "metadata": {
    "scrolled": true
   },
   "outputs": [],
   "source": [
    "df_cute = df_cute[(df_cute[\"Method\"] != \"gift\") &\n",
    "(df_cute[\"Method\"] != \"gift-egg\")]"
   ]
  },
  {
   "cell_type": "code",
   "execution_count": 25,
   "metadata": {},
   "outputs": [],
   "source": [
    "def fun_temp(value_in):\n",
    "    if value_in == None:\n",
    "        value_out = None\n",
    "    else:\n",
    "        value_out = value_in[\"name\"]\n",
    "    return value_out\n",
    "\n",
    "df_cute[\"Evolves From\"] = df_cute[\"Evolves From\"].map(lambda x: fun_temp(x)) "
   ]
  },
  {
   "cell_type": "code",
   "execution_count": 26,
   "metadata": {},
   "outputs": [],
   "source": [
    "def fun_temp(value_in):\n",
    "    if len(value_in) == 0:\n",
    "        value_out = None\n",
    "    elif len(value_in) == 1:\n",
    "        value_out = value_in[0][\"name\"]\n",
    "    else:\n",
    "        value_out = value_in[0][\"name\"] + \", \" + value_in[1][\"name\"]\n",
    "    return value_out\n",
    "\n",
    "df_cute[\"Condition\"] = df_cute[\"Condition\"].map(lambda x: fun_temp(x))\n",
    "\n",
    "def fun_temp(value_in):\n",
    "    value_out = \"ERROR\"\n",
    "    if type(value_in) == type(None):\n",
    "        value_out = None\n",
    "    elif value_in.count(\"slot2\") == 1:\n",
    "        value_out = value_in\n",
    "    else:\n",
    "        value_out = None\n",
    "    return value_out\n",
    "\n",
    "\n",
    "df_cute[\"Condition\"] = df_cute[\"Condition\"].map(lambda x: fun_temp(x))"
   ]
  },
  {
   "cell_type": "code",
   "execution_count": 27,
   "metadata": {},
   "outputs": [],
   "source": [
    "df_cute[\"Gender\"] = df_cute[\"Gender\"].map(lambda x: x/8)"
   ]
  },
  {
   "cell_type": "code",
   "execution_count": 28,
   "metadata": {},
   "outputs": [
    {
     "data": {
      "text/html": [
       "<div>\n",
       "<style scoped>\n",
       "    .dataframe tbody tr th:only-of-type {\n",
       "        vertical-align: middle;\n",
       "    }\n",
       "\n",
       "    .dataframe tbody tr th {\n",
       "        vertical-align: top;\n",
       "    }\n",
       "\n",
       "    .dataframe thead th {\n",
       "        text-align: right;\n",
       "    }\n",
       "</style>\n",
       "<table border=\"1\" class=\"dataframe\">\n",
       "  <thead>\n",
       "    <tr style=\"text-align: right;\">\n",
       "      <th></th>\n",
       "      <th>Pokemon</th>\n",
       "      <th>Gender</th>\n",
       "      <th>Location</th>\n",
       "      <th>Version</th>\n",
       "      <th>Chance</th>\n",
       "      <th>Condition</th>\n",
       "      <th>Max Level</th>\n",
       "      <th>Min Level</th>\n",
       "      <th>Method</th>\n",
       "      <th>Evolves From</th>\n",
       "    </tr>\n",
       "  </thead>\n",
       "  <tbody>\n",
       "    <tr>\n",
       "      <th>27</th>\n",
       "      <td>caterpie</td>\n",
       "      <td>0.5</td>\n",
       "      <td>eterna-forest-area</td>\n",
       "      <td>platinum</td>\n",
       "      <td>4</td>\n",
       "      <td>slot2-firered</td>\n",
       "      <td>13</td>\n",
       "      <td>13</td>\n",
       "      <td>walk</td>\n",
       "      <td>None</td>\n",
       "    </tr>\n",
       "    <tr>\n",
       "      <th>28</th>\n",
       "      <td>caterpie</td>\n",
       "      <td>0.5</td>\n",
       "      <td>sinnoh-route-204-south-towards-jubilife-city</td>\n",
       "      <td>diamond</td>\n",
       "      <td>4</td>\n",
       "      <td>slot2-firered</td>\n",
       "      <td>6</td>\n",
       "      <td>6</td>\n",
       "      <td>walk</td>\n",
       "      <td>None</td>\n",
       "    </tr>\n",
       "    <tr>\n",
       "      <th>29</th>\n",
       "      <td>caterpie</td>\n",
       "      <td>0.5</td>\n",
       "      <td>sinnoh-route-204-south-towards-jubilife-city</td>\n",
       "      <td>pearl</td>\n",
       "      <td>4</td>\n",
       "      <td>slot2-firered</td>\n",
       "      <td>6</td>\n",
       "      <td>6</td>\n",
       "      <td>walk</td>\n",
       "      <td>None</td>\n",
       "    </tr>\n",
       "    <tr>\n",
       "      <th>30</th>\n",
       "      <td>caterpie</td>\n",
       "      <td>0.5</td>\n",
       "      <td>sinnoh-route-204-south-towards-jubilife-city</td>\n",
       "      <td>platinum</td>\n",
       "      <td>4</td>\n",
       "      <td>slot2-firered</td>\n",
       "      <td>5</td>\n",
       "      <td>5</td>\n",
       "      <td>walk</td>\n",
       "      <td>None</td>\n",
       "    </tr>\n",
       "    <tr>\n",
       "      <th>31</th>\n",
       "      <td>caterpie</td>\n",
       "      <td>0.5</td>\n",
       "      <td>sinnoh-route-204-north-towards-floaroma-town</td>\n",
       "      <td>platinum</td>\n",
       "      <td>4</td>\n",
       "      <td>slot2-firered</td>\n",
       "      <td>10</td>\n",
       "      <td>10</td>\n",
       "      <td>walk</td>\n",
       "      <td>None</td>\n",
       "    </tr>\n",
       "  </tbody>\n",
       "</table>\n",
       "</div>"
      ],
      "text/plain": [
       "     Pokemon  Gender                                      Location   Version  \\\n",
       "27  caterpie     0.5                            eterna-forest-area  platinum   \n",
       "28  caterpie     0.5  sinnoh-route-204-south-towards-jubilife-city   diamond   \n",
       "29  caterpie     0.5  sinnoh-route-204-south-towards-jubilife-city     pearl   \n",
       "30  caterpie     0.5  sinnoh-route-204-south-towards-jubilife-city  platinum   \n",
       "31  caterpie     0.5  sinnoh-route-204-north-towards-floaroma-town  platinum   \n",
       "\n",
       "    Chance      Condition  Max Level  Min Level Method Evolves From  \n",
       "27       4  slot2-firered         13         13   walk         None  \n",
       "28       4  slot2-firered          6          6   walk         None  \n",
       "29       4  slot2-firered          6          6   walk         None  \n",
       "30       4  slot2-firered          5          5   walk         None  \n",
       "31       4  slot2-firered         10         10   walk         None  "
      ]
     },
     "execution_count": 28,
     "metadata": {},
     "output_type": "execute_result"
    }
   ],
   "source": [
    "df_cute.head()"
   ]
  },
  {
   "cell_type": "code",
   "execution_count": 27,
   "metadata": {},
   "outputs": [],
   "source": [
    "df_cute_share = df_cute.drop([\"Max Level\", \"Min Level\"], axis = 1)#, \"Location\", \"Chance\", \"Method\")\n",
    "\n",
    "df_cute_share = pd.concat([df_cute_share.drop([\"Version\", \"Condition\"], axis = 1), \n",
    "           pd.get_dummies(df_cute_share[\"Version\"]), \n",
    "           pd.get_dummies(df_cute_share[\"Condition\"])], axis = 1\n",
    "             ).drop(\"slot2-none\", axis = 1)\n",
    "\n",
    "df_cute_share = df_cute_share.groupby('Pokemon').max()\n",
    "\n",
    "df_cute_share = df_cute_share.reset_index()\n",
    "\n",
    "df_cute_share[\"Location\"] = df_cute_share[\"Location\"].map(lambda x: x.replace(\"-\", \" \"))\n",
    "\n",
    "#df_cute_share.drop([\"Max Level\", \"Location\", \"Min Level\", \"Chance\", \"Method\"], axis = 1#)\n",
    "df_cute_share.to_csv(\"./data/Cute_Availability.csv\", index = False)"
   ]
  },
  {
   "cell_type": "code",
   "execution_count": null,
   "metadata": {},
   "outputs": [],
   "source": []
  },
  {
   "cell_type": "code",
   "execution_count": null,
   "metadata": {},
   "outputs": [],
   "source": []
  },
  {
   "cell_type": "code",
   "execution_count": null,
   "metadata": {},
   "outputs": [],
   "source": []
  },
  {
   "cell_type": "code",
   "execution_count": 74,
   "metadata": {},
   "outputs": [],
   "source": [
    "list_arrays = []\n",
    "for mon in df_cute_catch[\"Pokemon\"].unique():\n",
    "    list_arrays.append(df_cute_catch[df_cute_catch[\"Pokemon\"] == mon].sum())\n",
    "\n",
    "df_cute_catch = pd.DataFrame(list_arrays)\n",
    "\n",
    "def fun_singularize(word_in):\n",
    "    word_out = \"\"\n",
    "    if type(word_in) != str:\n",
    "        word_out = word_in\n",
    "    else:\n",
    "        for i in range(1, len(word_in) + 1):\n",
    "            word = word_in[:i]\n",
    "            count = word_in.count(word)\n",
    "            if count * len(word) == len(word_in):\n",
    "                word_out = word\n",
    "                break\n",
    "    return word_out\n",
    "\n",
    "df_cute_catch[\"Pokemon\"] = df_cute_catch[\"Pokemon\"].map(lambda x: fun_singularize(x))\n",
    "df_cute_catch[\"Evolves From\"] = df_cute_catch[\"Evolves From\"].map(lambda x: fun_singularize(x))"
   ]
  },
  {
   "cell_type": "code",
   "execution_count": 208,
   "metadata": {},
   "outputs": [
    {
     "name": "stdout",
     "output_type": "stream",
     "text": [
      "     Pokemon  Col2  Col3  Col4  Col5  Col6\n",
      "0  abomasnow   1.0     0     0     1     1\n",
      "1    heatran   1.5     1     0     1     1\n"
     ]
    }
   ],
   "source": [
    "import pandas as pd\n",
    "\n",
    "# Create the initial DataFrame\n",
    "data = {\n",
    "    'Pokemon': ['abomasnow', 'abomasnow', 'heatran', 'heatran', 'heatran'],\n",
    "    'Col2': [0.5, 0.5, 0.5, 0.5, 0.5],\n",
    "    'Col3': [0, 0, 1, 0, 0],\n",
    "    'Col4': [0, 0, 0, 0, 0],\n",
    "    'Col5': [1, 0, 0, 1, 0],\n",
    "    'Col6': [0, 1, 0, 0, 1]\n",
    "}\n",
    "\n",
    "df_cute = pd.DataFrame(data)\n",
    "\n",
    "# Group by 'Pokemon' and sum the values for each group\n",
    "result_df_cute = df_cute.groupby('Pokemon').sum()\n",
    "\n",
    "# Reset the index to make 'Pokemon' a regular column\n",
    "result_df_cute = result_df_cute.reset_index()\n",
    "\n",
    "# Rename the columns\n",
    "result_df_cute.columns = ['Pokemon', 'Col2', 'Col3', 'Col4', 'Col5', 'Col6']\n",
    "\n",
    "print(result_df_cute)\n"
   ]
  },
  {
   "cell_type": "code",
   "execution_count": null,
   "metadata": {},
   "outputs": [],
   "source": []
  },
  {
   "cell_type": "code",
   "execution_count": null,
   "metadata": {},
   "outputs": [],
   "source": []
  },
  {
   "cell_type": "code",
   "execution_count": null,
   "metadata": {},
   "outputs": [],
   "source": []
  },
  {
   "cell_type": "code",
   "execution_count": null,
   "metadata": {},
   "outputs": [],
   "source": []
  },
  {
   "cell_type": "code",
   "execution_count": null,
   "metadata": {},
   "outputs": [],
   "source": []
  },
  {
   "cell_type": "code",
   "execution_count": null,
   "metadata": {},
   "outputs": [],
   "source": []
  },
  {
   "cell_type": "code",
   "execution_count": null,
   "metadata": {},
   "outputs": [],
   "source": []
  },
  {
   "cell_type": "markdown",
   "metadata": {},
   "source": [
    "## Personal Prep"
   ]
  },
  {
   "cell_type": "code",
   "execution_count": 19,
   "metadata": {},
   "outputs": [
    {
     "data": {
      "text/html": [
       "<div>\n",
       "<style scoped>\n",
       "    .dataframe tbody tr th:only-of-type {\n",
       "        vertical-align: middle;\n",
       "    }\n",
       "\n",
       "    .dataframe tbody tr th {\n",
       "        vertical-align: top;\n",
       "    }\n",
       "\n",
       "    .dataframe thead th {\n",
       "        text-align: right;\n",
       "    }\n",
       "</style>\n",
       "<table border=\"1\" class=\"dataframe\">\n",
       "  <thead>\n",
       "    <tr style=\"text-align: right;\">\n",
       "      <th></th>\n",
       "      <th>Pokemon</th>\n",
       "      <th>Gender</th>\n",
       "      <th>Location</th>\n",
       "      <th>Version</th>\n",
       "      <th>Chance</th>\n",
       "      <th>Condition</th>\n",
       "      <th>Max Level</th>\n",
       "      <th>Min Level</th>\n",
       "      <th>Method</th>\n",
       "      <th>Evolves From</th>\n",
       "    </tr>\n",
       "  </thead>\n",
       "  <tbody>\n",
       "    <tr>\n",
       "      <th>27</th>\n",
       "      <td>caterpie</td>\n",
       "      <td>0.5</td>\n",
       "      <td>eterna-forest-area</td>\n",
       "      <td>platinum</td>\n",
       "      <td>4</td>\n",
       "      <td>slot2-firered</td>\n",
       "      <td>13</td>\n",
       "      <td>13</td>\n",
       "      <td>walk</td>\n",
       "      <td>None</td>\n",
       "    </tr>\n",
       "    <tr>\n",
       "      <th>28</th>\n",
       "      <td>caterpie</td>\n",
       "      <td>0.5</td>\n",
       "      <td>sinnoh-route-204-south-towards-jubilife-city</td>\n",
       "      <td>diamond</td>\n",
       "      <td>4</td>\n",
       "      <td>slot2-firered</td>\n",
       "      <td>6</td>\n",
       "      <td>6</td>\n",
       "      <td>walk</td>\n",
       "      <td>None</td>\n",
       "    </tr>\n",
       "    <tr>\n",
       "      <th>29</th>\n",
       "      <td>caterpie</td>\n",
       "      <td>0.5</td>\n",
       "      <td>sinnoh-route-204-south-towards-jubilife-city</td>\n",
       "      <td>pearl</td>\n",
       "      <td>4</td>\n",
       "      <td>slot2-firered</td>\n",
       "      <td>6</td>\n",
       "      <td>6</td>\n",
       "      <td>walk</td>\n",
       "      <td>None</td>\n",
       "    </tr>\n",
       "    <tr>\n",
       "      <th>30</th>\n",
       "      <td>caterpie</td>\n",
       "      <td>0.5</td>\n",
       "      <td>sinnoh-route-204-south-towards-jubilife-city</td>\n",
       "      <td>platinum</td>\n",
       "      <td>4</td>\n",
       "      <td>slot2-firered</td>\n",
       "      <td>5</td>\n",
       "      <td>5</td>\n",
       "      <td>walk</td>\n",
       "      <td>None</td>\n",
       "    </tr>\n",
       "    <tr>\n",
       "      <th>31</th>\n",
       "      <td>caterpie</td>\n",
       "      <td>0.5</td>\n",
       "      <td>sinnoh-route-204-north-towards-floaroma-town</td>\n",
       "      <td>platinum</td>\n",
       "      <td>4</td>\n",
       "      <td>slot2-firered</td>\n",
       "      <td>10</td>\n",
       "      <td>10</td>\n",
       "      <td>walk</td>\n",
       "      <td>None</td>\n",
       "    </tr>\n",
       "    <tr>\n",
       "      <th>34</th>\n",
       "      <td>caterpie</td>\n",
       "      <td>0.5</td>\n",
       "      <td>johto-route-30-area</td>\n",
       "      <td>heartgold</td>\n",
       "      <td>1</td>\n",
       "      <td>None</td>\n",
       "      <td>4</td>\n",
       "      <td>4</td>\n",
       "      <td>walk</td>\n",
       "      <td>None</td>\n",
       "    </tr>\n",
       "    <tr>\n",
       "      <th>37</th>\n",
       "      <td>caterpie</td>\n",
       "      <td>0.5</td>\n",
       "      <td>johto-route-31-area</td>\n",
       "      <td>heartgold</td>\n",
       "      <td>1</td>\n",
       "      <td>None</td>\n",
       "      <td>5</td>\n",
       "      <td>5</td>\n",
       "      <td>walk</td>\n",
       "      <td>None</td>\n",
       "    </tr>\n",
       "    <tr>\n",
       "      <th>40</th>\n",
       "      <td>caterpie</td>\n",
       "      <td>0.5</td>\n",
       "      <td>ilex-forest-area</td>\n",
       "      <td>heartgold</td>\n",
       "      <td>10</td>\n",
       "      <td>None</td>\n",
       "      <td>6</td>\n",
       "      <td>6</td>\n",
       "      <td>walk</td>\n",
       "      <td>None</td>\n",
       "    </tr>\n",
       "    <tr>\n",
       "      <th>45</th>\n",
       "      <td>caterpie</td>\n",
       "      <td>0.5</td>\n",
       "      <td>national-park-area</td>\n",
       "      <td>heartgold</td>\n",
       "      <td>10</td>\n",
       "      <td>None</td>\n",
       "      <td>12</td>\n",
       "      <td>12</td>\n",
       "      <td>walk</td>\n",
       "      <td>None</td>\n",
       "    </tr>\n",
       "    <tr>\n",
       "      <th>46</th>\n",
       "      <td>caterpie</td>\n",
       "      <td>0.5</td>\n",
       "      <td>unknown-all-bugs-area</td>\n",
       "      <td>heartgold</td>\n",
       "      <td>1</td>\n",
       "      <td>None</td>\n",
       "      <td>14</td>\n",
       "      <td>14</td>\n",
       "      <td>walk</td>\n",
       "      <td>None</td>\n",
       "    </tr>\n",
       "  </tbody>\n",
       "</table>\n",
       "</div>"
      ],
      "text/plain": [
       "     Pokemon  Gender                                      Location    Version  \\\n",
       "27  caterpie     0.5                            eterna-forest-area   platinum   \n",
       "28  caterpie     0.5  sinnoh-route-204-south-towards-jubilife-city    diamond   \n",
       "29  caterpie     0.5  sinnoh-route-204-south-towards-jubilife-city      pearl   \n",
       "30  caterpie     0.5  sinnoh-route-204-south-towards-jubilife-city   platinum   \n",
       "31  caterpie     0.5  sinnoh-route-204-north-towards-floaroma-town   platinum   \n",
       "34  caterpie     0.5                           johto-route-30-area  heartgold   \n",
       "37  caterpie     0.5                           johto-route-31-area  heartgold   \n",
       "40  caterpie     0.5                              ilex-forest-area  heartgold   \n",
       "45  caterpie     0.5                            national-park-area  heartgold   \n",
       "46  caterpie     0.5                         unknown-all-bugs-area  heartgold   \n",
       "\n",
       "    Chance      Condition  Max Level  Min Level Method Evolves From  \n",
       "27       4  slot2-firered         13         13   walk         None  \n",
       "28       4  slot2-firered          6          6   walk         None  \n",
       "29       4  slot2-firered          6          6   walk         None  \n",
       "30       4  slot2-firered          5          5   walk         None  \n",
       "31       4  slot2-firered         10         10   walk         None  \n",
       "34       1           None          4          4   walk         None  \n",
       "37       1           None          5          5   walk         None  \n",
       "40      10           None          6          6   walk         None  \n",
       "45      10           None         12         12   walk         None  \n",
       "46       1           None         14         14   walk         None  "
      ]
     },
     "execution_count": 19,
     "metadata": {},
     "output_type": "execute_result"
    }
   ],
   "source": [
    "df_cute.head(10)"
   ]
  },
  {
   "cell_type": "code",
   "execution_count": 21,
   "metadata": {},
   "outputs": [
    {
     "data": {
      "text/plain": [
       "259"
      ]
     },
     "execution_count": 21,
     "metadata": {},
     "output_type": "execute_result"
    }
   ],
   "source": [
    "len(df_cute[\"Pokemon\"].unique())"
   ]
  },
  {
   "cell_type": "code",
   "execution_count": 24,
   "metadata": {},
   "outputs": [
    {
     "data": {
      "text/plain": [
       "array(['caterpie', 'metapod', 'weedle', 'kakuna', 'pidgey', 'rattata',\n",
       "       'spearow', 'ekans', 'pichu', 'sandshrew', 'cleffa', 'igglybuff',\n",
       "       'zubat', 'oddish', 'paras', 'venonat', 'diglett', 'meowth',\n",
       "       'psyduck', 'mankey', 'poliwag', 'abra', 'machop', 'bellsprout',\n",
       "       'tentacool', 'geodude', 'graveler', 'ponyta', 'slowpoke', 'doduo',\n",
       "       'seel', 'grimer', 'gastly', 'haunter', 'drowzee', 'krabby',\n",
       "       'cubone', 'koffing', 'rhyhorn', 'horsea', 'goldeen', 'elekid',\n",
       "       'magby', 'magikarp', 'munchlax', 'dratini', 'sentret', 'hoothoot',\n",
       "       'ledyba', 'spinarak', 'chinchou', 'mareep', 'azurill', 'marill',\n",
       "       'bonsly', 'hoppip', 'wooper', 'wynaut', 'onix', 'teddiursa',\n",
       "       'slugma', 'swinub', 'remoraid', 'mantyke', 'houndour', 'phanpy',\n",
       "       'larvitar', 'poochyena', 'zigzagoon', 'wurmple', 'silcoon',\n",
       "       'cascoon', 'lotad', 'seedot', 'taillow', 'wingull', 'ralts',\n",
       "       'surskit', 'whismur', 'meditite', 'budew', 'carvanha', 'wailmer',\n",
       "       'numel', 'trapinch', 'cacnea', 'barboach', 'corphish', 'shuppet',\n",
       "       'duskull', 'chingling', 'spheal', 'starly', 'bidoof', 'kricketot',\n",
       "       'shinx', 'buizel', 'shellos', 'glameow', 'stunky', 'gible',\n",
       "       'hippopotas', 'finneon', 'snover'], dtype=object)"
      ]
     },
     "execution_count": 24,
     "metadata": {},
     "output_type": "execute_result"
    }
   ],
   "source": [
    "df_cute[\"Evolves From\"].unique()[1:]"
   ]
  },
  {
   "cell_type": "code",
   "execution_count": null,
   "metadata": {},
   "outputs": [],
   "source": [
    "list_inner = []\n"
   ]
  },
  {
   "cell_type": "code",
   "execution_count": null,
   "metadata": {},
   "outputs": [],
   "source": [
    "for row in df_cute.\n",
    "print()"
   ]
  },
  {
   "cell_type": "code",
   "execution_count": null,
   "metadata": {},
   "outputs": [],
   "source": []
  },
  {
   "cell_type": "code",
   "execution_count": null,
   "metadata": {},
   "outputs": [],
   "source": []
  },
  {
   "cell_type": "code",
   "execution_count": null,
   "metadata": {},
   "outputs": [],
   "source": []
  },
  {
   "cell_type": "code",
   "execution_count": null,
   "metadata": {},
   "outputs": [],
   "source": []
  },
  {
   "cell_type": "code",
   "execution_count": null,
   "metadata": {},
   "outputs": [],
   "source": []
  },
  {
   "cell_type": "code",
   "execution_count": null,
   "metadata": {},
   "outputs": [],
   "source": []
  },
  {
   "cell_type": "code",
   "execution_count": null,
   "metadata": {},
   "outputs": [],
   "source": []
  },
  {
   "cell_type": "code",
   "execution_count": null,
   "metadata": {},
   "outputs": [],
   "source": []
  },
  {
   "cell_type": "code",
   "execution_count": null,
   "metadata": {},
   "outputs": [],
   "source": []
  },
  {
   "cell_type": "code",
   "execution_count": null,
   "metadata": {},
   "outputs": [],
   "source": []
  },
  {
   "cell_type": "code",
   "execution_count": null,
   "metadata": {},
   "outputs": [],
   "source": []
  },
  {
   "cell_type": "code",
   "execution_count": null,
   "metadata": {},
   "outputs": [],
   "source": []
  },
  {
   "cell_type": "code",
   "execution_count": null,
   "metadata": {},
   "outputs": [],
   "source": []
  },
  {
   "cell_type": "code",
   "execution_count": null,
   "metadata": {},
   "outputs": [],
   "source": []
  },
  {
   "cell_type": "code",
   "execution_count": null,
   "metadata": {},
   "outputs": [],
   "source": []
  },
  {
   "cell_type": "code",
   "execution_count": null,
   "metadata": {},
   "outputs": [],
   "source": []
  },
  {
   "cell_type": "code",
   "execution_count": null,
   "metadata": {},
   "outputs": [],
   "source": []
  },
  {
   "cell_type": "code",
   "execution_count": 29,
   "metadata": {},
   "outputs": [],
   "source": [
    "df_cute = df_cute[ \n",
    "    (df_cute[\"Method\"] == \"walk\") |\n",
    "    (df_cute[\"Method\"] == \"surf\") |\n",
    "    (df_cute[\"Method\"] == \"super-rod\") |\n",
    "    (df_cute[\"Method\"] == \"good-rod\")]\n"
   ]
  },
  {
   "cell_type": "code",
   "execution_count": 30,
   "metadata": {},
   "outputs": [],
   "source": [
    "def fun_temp(value_in):\n",
    "    if len(value_in) == 0:\n",
    "        value_out = None\n",
    "    elif len(value_in) == 1:\n",
    "        value_out = value_in[0][\"name\"]\n",
    "    else:\n",
    "        value_out = value_in[0][\"name\"] + \", \" + value_in[1][\"name\"]\n",
    "    return value_out\n",
    "\n",
    "df_cute[\"Condition\"] = df_cute[\"Condition\"].map(lambda x: fun_temp(x))\n",
    "                    \n",
    "                    \n",
    "                    \n",
    "                    #.value_counts()"
   ]
  },
  {
   "cell_type": "code",
   "execution_count": 31,
   "metadata": {},
   "outputs": [],
   "source": [
    "df_cute.to_csv(\"./data/Cute_Pokemon_Data.csv\", index = False)"
   ]
  },
  {
   "cell_type": "code",
   "execution_count": null,
   "metadata": {},
   "outputs": [],
   "source": [
    "# Personal Availabilities\n",
    "\n",
    "df_cute = df_cute[(df_cute[\"Version\"] == \"pearl\") |\n",
    "    (df_cute[\"Version\"] == \"soulsilver\")]\n",
    "\n",
    "df_cute = df_cute[(df_cute[\"Condition\"] != \"slot2-leafgreen\") &\n",
    "    (df_cute[\"Condition\"] != \"slot2-emerald\") &\n",
    "    (df_cute[\"Condition\"] != \"slot2-sapphire\")]"
   ]
  },
  {
   "cell_type": "code",
   "execution_count": 26,
   "metadata": {},
   "outputs": [
    {
     "name": "stdout",
     "output_type": "stream",
     "text": [
      "228\n"
     ]
    },
    {
     "data": {
      "text/plain": [
       "array(['caterpie', 'metapod', 'weedle', 'kakuna', 'beedrill', 'pidgey',\n",
       "       'pidgeotto', 'rattata', 'raticate', 'spearow', 'fearow', 'ekans',\n",
       "       'arbok', 'pikachu', 'sandshrew', 'sandslash', 'clefairy', 'vulpix',\n",
       "       'jigglypuff', 'zubat', 'golbat', 'oddish', 'gloom', 'paras',\n",
       "       'parasect', 'venonat', 'venomoth', 'diglett', 'dugtrio', 'meowth',\n",
       "       'persian', 'psyduck', 'golduck', 'mankey', 'primeape', 'growlithe',\n",
       "       'poliwag', 'poliwhirl', 'abra', 'kadabra', 'machop', 'machoke',\n",
       "       'bellsprout', 'weepinbell', 'tentacool', 'tentacruel', 'geodude',\n",
       "       'graveler', 'golem', 'ponyta', 'rapidash', 'slowpoke', 'slowbro',\n",
       "       'farfetchd', 'doduo', 'dodrio', 'seel', 'dewgong', 'grimer', 'muk',\n",
       "       'shellder', 'gastly', 'haunter', 'onix', 'drowzee', 'hypno',\n",
       "       'krabby', 'kingler', 'cubone', 'marowak', 'lickitung', 'koffing',\n",
       "       'weezing', 'rhyhorn', 'rhydon', 'tangela', 'horsea', 'seadra',\n",
       "       'goldeen', 'seaking', 'mr-mime', 'electabuzz', 'magmar', 'pinsir',\n",
       "       'magikarp', 'gyarados', 'lapras', 'dratini', 'dragonair',\n",
       "       'sentret', 'furret', 'hoothoot', 'noctowl', 'ledyba', 'ledian',\n",
       "       'ariados', 'chinchou', 'lanturn', 'pichu', 'cleffa', 'togepi',\n",
       "       'natu', 'mareep', 'flaaffy', 'marill', 'sudowoodo', 'hoppip',\n",
       "       'skiploom', 'sunkern', 'yanma', 'wooper', 'quagsire', 'murkrow',\n",
       "       'misdreavus', 'wobbuffet', 'girafarig', 'dunsparce', 'steelix',\n",
       "       'snubbull', 'qwilfish', 'sneasel', 'teddiursa', 'ursaring',\n",
       "       'slugma', 'magcargo', 'swinub', 'corsola', 'remoraid', 'octillery',\n",
       "       'delibird', 'skarmory', 'houndour', 'houndoom', 'phanpy',\n",
       "       'stantler', 'smeargle', 'elekid', 'larvitar', 'pupitar',\n",
       "       'poochyena', 'zigzagoon', 'linoone', 'wurmple', 'beautifly',\n",
       "       'cascoon', 'dustox', 'seedot', 'nuzleaf', 'swellow', 'wingull',\n",
       "       'pelipper', 'ralts', 'kirlia', 'surskit', 'slakoth', 'nincada',\n",
       "       'whismur', 'loudred', 'makuhita', 'azurill', 'nosepass', 'skitty',\n",
       "       'mawile', 'meditite', 'medicham', 'electrike', 'plusle', 'minun',\n",
       "       'roselia', 'gulpin', 'carvanha', 'sharpedo', 'wailmer', 'wailord',\n",
       "       'numel', 'camerupt', 'torkoal', 'spoink', 'spinda', 'trapinch',\n",
       "       'vibrava', 'cacnea', 'cacturne', 'swablu', 'zangoose', 'barboach',\n",
       "       'whiscash', 'corphish', 'crawdaunt', 'banette', 'duskull',\n",
       "       'dusclops', 'chimecho', 'absol', 'snorunt', 'spheal', 'sealeo',\n",
       "       'clamperl', 'relicanth', 'luvdisc', 'bagon', 'starly', 'staravia',\n",
       "       'bidoof', 'bibarel', 'kricketot', 'kricketune', 'shinx', 'luxio',\n",
       "       'budew', 'pachirisu', 'buizel', 'floatzel', 'buneary', 'glameow',\n",
       "       'purugly', 'chingling', 'bonsly', 'chatot', 'gible', 'hippopotas',\n",
       "       'hippowdon', 'carnivine', 'finneon', 'lumineon', 'mantyke',\n",
       "       'snover', 'abomasnow'], dtype=object)"
      ]
     },
     "execution_count": 26,
     "metadata": {},
     "output_type": "execute_result"
    }
   ],
   "source": [
    "print(len(df_cute[\"Pokemon\"].unique()))\n",
    "df_cute[\"Pokemon\"].unique()"
   ]
  },
  {
   "cell_type": "code",
   "execution_count": 23,
   "metadata": {},
   "outputs": [
    {
     "data": {
      "text/html": [
       "<div>\n",
       "<style scoped>\n",
       "    .dataframe tbody tr th:only-of-type {\n",
       "        vertical-align: middle;\n",
       "    }\n",
       "\n",
       "    .dataframe tbody tr th {\n",
       "        vertical-align: top;\n",
       "    }\n",
       "\n",
       "    .dataframe thead th {\n",
       "        text-align: right;\n",
       "    }\n",
       "</style>\n",
       "<table border=\"1\" class=\"dataframe\">\n",
       "  <thead>\n",
       "    <tr style=\"text-align: right;\">\n",
       "      <th></th>\n",
       "      <th>Pokemon</th>\n",
       "      <th>Gender</th>\n",
       "      <th>Location</th>\n",
       "      <th>Version</th>\n",
       "      <th>Chance</th>\n",
       "      <th>Condition</th>\n",
       "      <th>Max Level</th>\n",
       "      <th>Min Level</th>\n",
       "      <th>Method</th>\n",
       "      <th>Evolves From</th>\n",
       "    </tr>\n",
       "  </thead>\n",
       "  <tbody>\n",
       "    <tr>\n",
       "      <th>1328</th>\n",
       "      <td>nidorino</td>\n",
       "      <td>0</td>\n",
       "      <td>valor-lakefront-area</td>\n",
       "      <td>pearl</td>\n",
       "      <td>10</td>\n",
       "      <td>radar-on</td>\n",
       "      <td>22</td>\n",
       "      <td>22</td>\n",
       "      <td>walk</td>\n",
       "      <td>nidoran-m</td>\n",
       "    </tr>\n",
       "    <tr>\n",
       "      <th>1331</th>\n",
       "      <td>nidorino</td>\n",
       "      <td>0</td>\n",
       "      <td>sinnoh-route-221-area</td>\n",
       "      <td>pearl</td>\n",
       "      <td>10</td>\n",
       "      <td>radar-on</td>\n",
       "      <td>29</td>\n",
       "      <td>29</td>\n",
       "      <td>walk</td>\n",
       "      <td>nidoran-m</td>\n",
       "    </tr>\n",
       "    <tr>\n",
       "      <th>1338</th>\n",
       "      <td>nidorino</td>\n",
       "      <td>0</td>\n",
       "      <td>kanto-route-13-area</td>\n",
       "      <td>soulsilver</td>\n",
       "      <td>10</td>\n",
       "      <td>radio-off</td>\n",
       "      <td>23</td>\n",
       "      <td>23</td>\n",
       "      <td>walk</td>\n",
       "      <td>nidoran-m</td>\n",
       "    </tr>\n",
       "    <tr>\n",
       "      <th>1343</th>\n",
       "      <td>nidorino</td>\n",
       "      <td>0</td>\n",
       "      <td>kanto-route-14-area</td>\n",
       "      <td>soulsilver</td>\n",
       "      <td>10</td>\n",
       "      <td>radio-off</td>\n",
       "      <td>23</td>\n",
       "      <td>23</td>\n",
       "      <td>walk</td>\n",
       "      <td>nidoran-m</td>\n",
       "    </tr>\n",
       "    <tr>\n",
       "      <th>1348</th>\n",
       "      <td>nidorino</td>\n",
       "      <td>0</td>\n",
       "      <td>kanto-route-15-area</td>\n",
       "      <td>soulsilver</td>\n",
       "      <td>10</td>\n",
       "      <td>radio-off</td>\n",
       "      <td>23</td>\n",
       "      <td>23</td>\n",
       "      <td>walk</td>\n",
       "      <td>nidoran-m</td>\n",
       "    </tr>\n",
       "    <tr>\n",
       "      <th>1367</th>\n",
       "      <td>nidorino</td>\n",
       "      <td>0</td>\n",
       "      <td>johto-safari-zone-zone-savannah</td>\n",
       "      <td>soulsilver</td>\n",
       "      <td>10</td>\n",
       "      <td>time-night</td>\n",
       "      <td>17</td>\n",
       "      <td>17</td>\n",
       "      <td>walk</td>\n",
       "      <td>nidoran-m</td>\n",
       "    </tr>\n",
       "  </tbody>\n",
       "</table>\n",
       "</div>"
      ],
      "text/plain": [
       "       Pokemon  Gender                         Location     Version  Chance  \\\n",
       "1328  nidorino       0             valor-lakefront-area       pearl      10   \n",
       "1331  nidorino       0            sinnoh-route-221-area       pearl      10   \n",
       "1338  nidorino       0              kanto-route-13-area  soulsilver      10   \n",
       "1343  nidorino       0              kanto-route-14-area  soulsilver      10   \n",
       "1348  nidorino       0              kanto-route-15-area  soulsilver      10   \n",
       "1367  nidorino       0  johto-safari-zone-zone-savannah  soulsilver      10   \n",
       "\n",
       "       Condition  Max Level  Min Level Method Evolves From  \n",
       "1328    radar-on         22         22   walk    nidoran-m  \n",
       "1331    radar-on         29         29   walk    nidoran-m  \n",
       "1338   radio-off         23         23   walk    nidoran-m  \n",
       "1343   radio-off         23         23   walk    nidoran-m  \n",
       "1348   radio-off         23         23   walk    nidoran-m  \n",
       "1367  time-night         17         17   walk    nidoran-m  "
      ]
     },
     "execution_count": 23,
     "metadata": {},
     "output_type": "execute_result"
    }
   ],
   "source": [
    "df_cute[df_cute[\"Pokemon\"] == \"nidorino\"]"
   ]
  },
  {
   "cell_type": "code",
   "execution_count": 24,
   "metadata": {},
   "outputs": [
    {
     "data": {
      "text/html": [
       "<div>\n",
       "<style scoped>\n",
       "    .dataframe tbody tr th:only-of-type {\n",
       "        vertical-align: middle;\n",
       "    }\n",
       "\n",
       "    .dataframe tbody tr th {\n",
       "        vertical-align: top;\n",
       "    }\n",
       "\n",
       "    .dataframe thead th {\n",
       "        text-align: right;\n",
       "    }\n",
       "</style>\n",
       "<table border=\"1\" class=\"dataframe\">\n",
       "  <thead>\n",
       "    <tr style=\"text-align: right;\">\n",
       "      <th></th>\n",
       "      <th>Pokemon</th>\n",
       "      <th>Gender</th>\n",
       "      <th>Location</th>\n",
       "      <th>Version</th>\n",
       "      <th>Chance</th>\n",
       "      <th>Condition</th>\n",
       "      <th>Max Level</th>\n",
       "      <th>Min Level</th>\n",
       "      <th>Method</th>\n",
       "      <th>Evolves From</th>\n",
       "    </tr>\n",
       "  </thead>\n",
       "  <tbody>\n",
       "    <tr>\n",
       "      <th>1328</th>\n",
       "      <td>nidorino</td>\n",
       "      <td>0</td>\n",
       "      <td>valor-lakefront-area</td>\n",
       "      <td>pearl</td>\n",
       "      <td>10</td>\n",
       "      <td>radar-on</td>\n",
       "      <td>22</td>\n",
       "      <td>22</td>\n",
       "      <td>walk</td>\n",
       "      <td>nidoran-m</td>\n",
       "    </tr>\n",
       "    <tr>\n",
       "      <th>1331</th>\n",
       "      <td>nidorino</td>\n",
       "      <td>0</td>\n",
       "      <td>sinnoh-route-221-area</td>\n",
       "      <td>pearl</td>\n",
       "      <td>10</td>\n",
       "      <td>radar-on</td>\n",
       "      <td>29</td>\n",
       "      <td>29</td>\n",
       "      <td>walk</td>\n",
       "      <td>nidoran-m</td>\n",
       "    </tr>\n",
       "    <tr>\n",
       "      <th>1338</th>\n",
       "      <td>nidorino</td>\n",
       "      <td>0</td>\n",
       "      <td>kanto-route-13-area</td>\n",
       "      <td>soulsilver</td>\n",
       "      <td>10</td>\n",
       "      <td>radio-off</td>\n",
       "      <td>23</td>\n",
       "      <td>23</td>\n",
       "      <td>walk</td>\n",
       "      <td>nidoran-m</td>\n",
       "    </tr>\n",
       "    <tr>\n",
       "      <th>1343</th>\n",
       "      <td>nidorino</td>\n",
       "      <td>0</td>\n",
       "      <td>kanto-route-14-area</td>\n",
       "      <td>soulsilver</td>\n",
       "      <td>10</td>\n",
       "      <td>radio-off</td>\n",
       "      <td>23</td>\n",
       "      <td>23</td>\n",
       "      <td>walk</td>\n",
       "      <td>nidoran-m</td>\n",
       "    </tr>\n",
       "    <tr>\n",
       "      <th>1348</th>\n",
       "      <td>nidorino</td>\n",
       "      <td>0</td>\n",
       "      <td>kanto-route-15-area</td>\n",
       "      <td>soulsilver</td>\n",
       "      <td>10</td>\n",
       "      <td>radio-off</td>\n",
       "      <td>23</td>\n",
       "      <td>23</td>\n",
       "      <td>walk</td>\n",
       "      <td>nidoran-m</td>\n",
       "    </tr>\n",
       "    <tr>\n",
       "      <th>1367</th>\n",
       "      <td>nidorino</td>\n",
       "      <td>0</td>\n",
       "      <td>johto-safari-zone-zone-savannah</td>\n",
       "      <td>soulsilver</td>\n",
       "      <td>10</td>\n",
       "      <td>time-night</td>\n",
       "      <td>17</td>\n",
       "      <td>17</td>\n",
       "      <td>walk</td>\n",
       "      <td>nidoran-m</td>\n",
       "    </tr>\n",
       "    <tr>\n",
       "      <th>7917</th>\n",
       "      <td>tauros</td>\n",
       "      <td>0</td>\n",
       "      <td>sinnoh-route-209-area</td>\n",
       "      <td>pearl</td>\n",
       "      <td>1</td>\n",
       "      <td>radar-on</td>\n",
       "      <td>16</td>\n",
       "      <td>16</td>\n",
       "      <td>walk</td>\n",
       "      <td>None</td>\n",
       "    </tr>\n",
       "    <tr>\n",
       "      <th>7919</th>\n",
       "      <td>tauros</td>\n",
       "      <td>0</td>\n",
       "      <td>sinnoh-route-210-south-towards-solaceon-town</td>\n",
       "      <td>pearl</td>\n",
       "      <td>1</td>\n",
       "      <td>radar-on</td>\n",
       "      <td>20</td>\n",
       "      <td>20</td>\n",
       "      <td>walk</td>\n",
       "      <td>None</td>\n",
       "    </tr>\n",
       "    <tr>\n",
       "      <th>7925</th>\n",
       "      <td>tauros</td>\n",
       "      <td>0</td>\n",
       "      <td>johto-route-38-area</td>\n",
       "      <td>soulsilver</td>\n",
       "      <td>4</td>\n",
       "      <td>None</td>\n",
       "      <td>13</td>\n",
       "      <td>13</td>\n",
       "      <td>walk</td>\n",
       "      <td>None</td>\n",
       "    </tr>\n",
       "    <tr>\n",
       "      <th>7930</th>\n",
       "      <td>tauros</td>\n",
       "      <td>0</td>\n",
       "      <td>johto-route-39-area</td>\n",
       "      <td>soulsilver</td>\n",
       "      <td>1</td>\n",
       "      <td>None</td>\n",
       "      <td>15</td>\n",
       "      <td>15</td>\n",
       "      <td>walk</td>\n",
       "      <td>None</td>\n",
       "    </tr>\n",
       "    <tr>\n",
       "      <th>7932</th>\n",
       "      <td>tauros</td>\n",
       "      <td>0</td>\n",
       "      <td>johto-route-48-area</td>\n",
       "      <td>soulsilver</td>\n",
       "      <td>1</td>\n",
       "      <td>None</td>\n",
       "      <td>24</td>\n",
       "      <td>24</td>\n",
       "      <td>walk</td>\n",
       "      <td>None</td>\n",
       "    </tr>\n",
       "    <tr>\n",
       "      <th>7946</th>\n",
       "      <td>tauros</td>\n",
       "      <td>0</td>\n",
       "      <td>johto-safari-zone-zone-savannah</td>\n",
       "      <td>soulsilver</td>\n",
       "      <td>10</td>\n",
       "      <td>time-day</td>\n",
       "      <td>17</td>\n",
       "      <td>17</td>\n",
       "      <td>walk</td>\n",
       "      <td>None</td>\n",
       "    </tr>\n",
       "    <tr>\n",
       "      <th>11220</th>\n",
       "      <td>tyrogue</td>\n",
       "      <td>0</td>\n",
       "      <td>sinnoh-route-208-area</td>\n",
       "      <td>pearl</td>\n",
       "      <td>1</td>\n",
       "      <td>radar-on</td>\n",
       "      <td>18</td>\n",
       "      <td>18</td>\n",
       "      <td>walk</td>\n",
       "      <td>None</td>\n",
       "    </tr>\n",
       "    <tr>\n",
       "      <th>11222</th>\n",
       "      <td>tyrogue</td>\n",
       "      <td>0</td>\n",
       "      <td>sinnoh-route-211-west-towards-eterna-city</td>\n",
       "      <td>pearl</td>\n",
       "      <td>1</td>\n",
       "      <td>radar-on</td>\n",
       "      <td>14</td>\n",
       "      <td>14</td>\n",
       "      <td>walk</td>\n",
       "      <td>None</td>\n",
       "    </tr>\n",
       "    <tr>\n",
       "      <th>12615</th>\n",
       "      <td>volbeat</td>\n",
       "      <td>0</td>\n",
       "      <td>sinnoh-route-229-area</td>\n",
       "      <td>pearl</td>\n",
       "      <td>10</td>\n",
       "      <td>radar-off</td>\n",
       "      <td>50</td>\n",
       "      <td>50</td>\n",
       "      <td>walk</td>\n",
       "      <td>None</td>\n",
       "    </tr>\n",
       "  </tbody>\n",
       "</table>\n",
       "</div>"
      ],
      "text/plain": [
       "        Pokemon  Gender                                      Location  \\\n",
       "1328   nidorino       0                          valor-lakefront-area   \n",
       "1331   nidorino       0                         sinnoh-route-221-area   \n",
       "1338   nidorino       0                           kanto-route-13-area   \n",
       "1343   nidorino       0                           kanto-route-14-area   \n",
       "1348   nidorino       0                           kanto-route-15-area   \n",
       "1367   nidorino       0               johto-safari-zone-zone-savannah   \n",
       "7917     tauros       0                         sinnoh-route-209-area   \n",
       "7919     tauros       0  sinnoh-route-210-south-towards-solaceon-town   \n",
       "7925     tauros       0                           johto-route-38-area   \n",
       "7930     tauros       0                           johto-route-39-area   \n",
       "7932     tauros       0                           johto-route-48-area   \n",
       "7946     tauros       0               johto-safari-zone-zone-savannah   \n",
       "11220   tyrogue       0                         sinnoh-route-208-area   \n",
       "11222   tyrogue       0     sinnoh-route-211-west-towards-eterna-city   \n",
       "12615   volbeat       0                         sinnoh-route-229-area   \n",
       "\n",
       "          Version  Chance   Condition  Max Level  Min Level Method  \\\n",
       "1328        pearl      10    radar-on         22         22   walk   \n",
       "1331        pearl      10    radar-on         29         29   walk   \n",
       "1338   soulsilver      10   radio-off         23         23   walk   \n",
       "1343   soulsilver      10   radio-off         23         23   walk   \n",
       "1348   soulsilver      10   radio-off         23         23   walk   \n",
       "1367   soulsilver      10  time-night         17         17   walk   \n",
       "7917        pearl       1    radar-on         16         16   walk   \n",
       "7919        pearl       1    radar-on         20         20   walk   \n",
       "7925   soulsilver       4        None         13         13   walk   \n",
       "7930   soulsilver       1        None         15         15   walk   \n",
       "7932   soulsilver       1        None         24         24   walk   \n",
       "7946   soulsilver      10    time-day         17         17   walk   \n",
       "11220       pearl       1    radar-on         18         18   walk   \n",
       "11222       pearl       1    radar-on         14         14   walk   \n",
       "12615       pearl      10   radar-off         50         50   walk   \n",
       "\n",
       "      Evolves From  \n",
       "1328     nidoran-m  \n",
       "1331     nidoran-m  \n",
       "1338     nidoran-m  \n",
       "1343     nidoran-m  \n",
       "1348     nidoran-m  \n",
       "1367     nidoran-m  \n",
       "7917          None  \n",
       "7919          None  \n",
       "7925          None  \n",
       "7930          None  \n",
       "7932          None  \n",
       "7946          None  \n",
       "11220         None  \n",
       "11222         None  \n",
       "12615         None  "
      ]
     },
     "execution_count": 24,
     "metadata": {},
     "output_type": "execute_result"
    }
   ],
   "source": [
    "df_cute[df_cute[\"Gender\"] == 0]"
   ]
  },
  {
   "cell_type": "code",
   "execution_count": 19,
   "metadata": {},
   "outputs": [
    {
     "data": {
      "text/plain": [
       "radio-hoenn                211\n",
       "time-night                 155\n",
       "radio-sinnoh               145\n",
       "time-day                   138\n",
       "radio-off                  115\n",
       "radar-off                  108\n",
       "radar-on                    49\n",
       "swarm-yes                   39\n",
       "time-night, radio-off       31\n",
       "time-day, radio-off         18\n",
       "time-morning                15\n",
       "swarm-no                    14\n",
       "slot2-ruby                  14\n",
       "slot2-firered               13\n",
       "time-morning, radio-off      5\n",
       "swarm-no, time-day           2\n",
       "swarm-no, time-night         1\n",
       "Name: Condition, dtype: int64"
      ]
     },
     "execution_count": 19,
     "metadata": {},
     "output_type": "execute_result"
    }
   ],
   "source": [
    "df_cute[\"Condition\"].value_counts()"
   ]
  },
  {
   "cell_type": "code",
   "execution_count": 35,
   "metadata": {},
   "outputs": [
    {
     "data": {
      "text/plain": [
       "walk             3819\n",
       "surf              768\n",
       "super-rod         675\n",
       "good-rod          372\n",
       "rock-smash         36\n",
       "only-one           17\n",
       "pokeflute           4\n",
       "old-rod             2\n",
       "squirt-bottle       2\n",
       "Name: Method, dtype: int64"
      ]
     },
     "execution_count": 35,
     "metadata": {},
     "output_type": "execute_result"
    }
   ],
   "source": [
    "df_cute[\"Method\"].value_counts()"
   ]
  },
  {
   "cell_type": "code",
   "execution_count": 20,
   "metadata": {},
   "outputs": [],
   "source": [
    "def fun_temp(value_in):\n",
    "    if value_in == None:\n",
    "        value_out = None\n",
    "    else:\n",
    "        value_out = value_in[\"name\"]\n",
    "    return value_out\n",
    "\n",
    "df_cute[\"Evolves From\"] = df_cute[\"Evolves From\"].map(lambda x: fun_temp(x)) "
   ]
  },
  {
   "cell_type": "code",
   "execution_count": null,
   "metadata": {},
   "outputs": [],
   "source": []
  },
  {
   "cell_type": "code",
   "execution_count": null,
   "metadata": {},
   "outputs": [],
   "source": []
  },
  {
   "cell_type": "code",
   "execution_count": null,
   "metadata": {},
   "outputs": [],
   "source": []
  },
  {
   "cell_type": "code",
   "execution_count": null,
   "metadata": {},
   "outputs": [],
   "source": []
  },
  {
   "cell_type": "code",
   "execution_count": 4,
   "metadata": {},
   "outputs": [],
   "source": [
    "df_cute = pd.read_csv(\"./data/Cute_Pokemon_Data.csv\")"
   ]
  },
  {
   "cell_type": "code",
   "execution_count": 33,
   "metadata": {},
   "outputs": [
    {
     "data": {
      "text/html": [
       "<div>\n",
       "<style scoped>\n",
       "    .dataframe tbody tr th:only-of-type {\n",
       "        vertical-align: middle;\n",
       "    }\n",
       "\n",
       "    .dataframe tbody tr th {\n",
       "        vertical-align: top;\n",
       "    }\n",
       "\n",
       "    .dataframe thead th {\n",
       "        text-align: right;\n",
       "    }\n",
       "</style>\n",
       "<table border=\"1\" class=\"dataframe\">\n",
       "  <thead>\n",
       "    <tr style=\"text-align: right;\">\n",
       "      <th></th>\n",
       "      <th>Pokemon</th>\n",
       "      <th>Gender</th>\n",
       "      <th>Location</th>\n",
       "      <th>Version</th>\n",
       "      <th>Chance</th>\n",
       "      <th>Condition</th>\n",
       "      <th>Max Level</th>\n",
       "      <th>Min Level</th>\n",
       "      <th>Method</th>\n",
       "      <th>Evolves From</th>\n",
       "    </tr>\n",
       "  </thead>\n",
       "  <tbody>\n",
       "  </tbody>\n",
       "</table>\n",
       "</div>"
      ],
      "text/plain": [
       "Empty DataFrame\n",
       "Columns: [Pokemon, Gender, Location, Version, Chance, Condition, Max Level, Min Level, Method, Evolves From]\n",
       "Index: []"
      ]
     },
     "execution_count": 33,
     "metadata": {},
     "output_type": "execute_result"
    }
   ],
   "source": [
    "df_cute[df_cute[\"Pokemon\"] == \"munchlax\"]"
   ]
  },
  {
   "cell_type": "code",
   "execution_count": 10,
   "metadata": {},
   "outputs": [
    {
     "data": {
      "text/plain": [
       "array(['caterpie', 'metapod', 'butterfree', 'weedle', 'kakuna',\n",
       "       'beedrill', 'pidgey', 'pidgeotto', 'rattata', 'raticate',\n",
       "       'spearow', 'fearow', 'ekans', 'arbok', 'pikachu', 'raichu',\n",
       "       'sandshrew', 'sandslash', 'clefairy', 'vulpix', 'jigglypuff',\n",
       "       'wigglytuff', 'zubat', 'golbat', 'oddish', 'gloom', 'paras',\n",
       "       'parasect', 'venonat', 'venomoth', 'diglett', 'dugtrio', 'meowth',\n",
       "       'persian', 'psyduck', 'golduck', 'mankey', 'primeape', 'growlithe',\n",
       "       'poliwag', 'poliwhirl', 'poliwrath', 'abra', 'kadabra', 'machop',\n",
       "       'machoke', 'bellsprout', 'weepinbell', 'tentacool', 'tentacruel',\n",
       "       'geodude', 'graveler', 'golem', 'ponyta', 'rapidash', 'slowpoke',\n",
       "       'slowbro', 'farfetchd', 'doduo', 'dodrio', 'seel', 'dewgong',\n",
       "       'grimer', 'muk', 'shellder', 'cloyster', 'gastly', 'haunter',\n",
       "       'gengar', 'onix', 'drowzee', 'hypno', 'krabby', 'kingler',\n",
       "       'exeggcute', 'cubone', 'marowak', 'lickitung', 'koffing',\n",
       "       'weezing', 'rhyhorn', 'rhydon', 'tangela', 'horsea', 'seadra',\n",
       "       'goldeen', 'seaking', 'mr-mime', 'scyther', 'electabuzz', 'magmar',\n",
       "       'pinsir', 'magikarp', 'gyarados', 'lapras', 'dratini', 'dragonair',\n",
       "       'sentret', 'furret', 'hoothoot', 'noctowl', 'ledyba', 'ledian',\n",
       "       'spinarak', 'ariados', 'chinchou', 'lanturn', 'pichu', 'cleffa',\n",
       "       'togepi', 'natu', 'xatu', 'mareep', 'flaaffy', 'marill',\n",
       "       'azumarill', 'sudowoodo', 'politoed', 'hoppip', 'skiploom',\n",
       "       'aipom', 'sunkern', 'yanma', 'wooper', 'quagsire', 'murkrow',\n",
       "       'misdreavus', 'wobbuffet', 'girafarig', 'pineco', 'dunsparce',\n",
       "       'gligar', 'steelix', 'snubbull', 'granbull', 'qwilfish', 'shuckle',\n",
       "       'heracross', 'sneasel', 'teddiursa', 'ursaring', 'slugma',\n",
       "       'magcargo', 'swinub', 'piloswine', 'corsola', 'remoraid',\n",
       "       'octillery', 'delibird', 'mantine', 'skarmory', 'houndour',\n",
       "       'houndoom', 'phanpy', 'donphan', 'stantler', 'smeargle', 'elekid',\n",
       "       'magby', 'larvitar', 'pupitar', 'poochyena', 'mightyena',\n",
       "       'zigzagoon', 'linoone', 'wurmple', 'silcoon', 'beautifly',\n",
       "       'cascoon', 'dustox', 'lotad', 'lombre', 'seedot', 'nuzleaf',\n",
       "       'taillow', 'swellow', 'wingull', 'pelipper', 'ralts', 'kirlia',\n",
       "       'surskit', 'masquerain', 'shroomish', 'slakoth', 'vigoroth',\n",
       "       'nincada', 'whismur', 'loudred', 'makuhita', 'hariyama', 'azurill',\n",
       "       'nosepass', 'skitty', 'sableye', 'mawile', 'aron', 'lairon',\n",
       "       'meditite', 'medicham', 'electrike', 'manectric', 'plusle',\n",
       "       'minun', 'roselia', 'gulpin', 'carvanha', 'sharpedo', 'wailmer',\n",
       "       'wailord', 'numel', 'camerupt', 'torkoal', 'spoink', 'grumpig',\n",
       "       'spinda', 'trapinch', 'vibrava', 'cacnea', 'cacturne', 'swablu',\n",
       "       'altaria', 'zangoose', 'seviper', 'barboach', 'whiscash',\n",
       "       'corphish', 'crawdaunt', 'kecleon', 'shuppet', 'banette',\n",
       "       'duskull', 'dusclops', 'tropius', 'chimecho', 'absol', 'wynaut',\n",
       "       'snorunt', 'spheal', 'sealeo', 'clamperl', 'huntail', 'gorebyss',\n",
       "       'relicanth', 'luvdisc', 'bagon', 'starly', 'staravia', 'bidoof',\n",
       "       'bibarel', 'kricketot', 'kricketune', 'shinx', 'luxio', 'budew',\n",
       "       'combee', 'pachirisu', 'buizel', 'floatzel', 'drifblim', 'buneary',\n",
       "       'glameow', 'purugly', 'chingling', 'stunky', 'skuntank', 'bonsly',\n",
       "       'mime-jr', 'chatot', 'gible', 'gabite', 'riolu', 'hippopotas',\n",
       "       'hippowdon', 'skorupi', 'croagunk', 'toxicroak', 'carnivine',\n",
       "       'finneon', 'lumineon', 'mantyke', 'snover', 'abomasnow'],\n",
       "      dtype=object)"
      ]
     },
     "execution_count": 10,
     "metadata": {},
     "output_type": "execute_result"
    }
   ],
   "source": [
    "df_cute[\"Pokemon\"].unique()"
   ]
  },
  {
   "cell_type": "code",
   "execution_count": 11,
   "metadata": {},
   "outputs": [
    {
     "data": {
      "text/plain": [
       "array(['walk', 'surf', 'good-rod', 'super-rod'], dtype=object)"
      ]
     },
     "execution_count": 11,
     "metadata": {},
     "output_type": "execute_result"
    }
   ],
   "source": [
    "df_cute[\"Method\"].unique()"
   ]
  },
  {
   "cell_type": "code",
   "execution_count": null,
   "metadata": {},
   "outputs": [],
   "source": []
  },
  {
   "cell_type": "code",
   "execution_count": null,
   "metadata": {},
   "outputs": [],
   "source": []
  },
  {
   "cell_type": "code",
   "execution_count": null,
   "metadata": {},
   "outputs": [],
   "source": []
  },
  {
   "cell_type": "code",
   "execution_count": null,
   "metadata": {},
   "outputs": [],
   "source": []
  },
  {
   "cell_type": "code",
   "execution_count": null,
   "metadata": {},
   "outputs": [],
   "source": []
  },
  {
   "cell_type": "code",
   "execution_count": 11,
   "metadata": {},
   "outputs": [
    {
     "data": {
      "text/html": [
       "<div>\n",
       "<style scoped>\n",
       "    .dataframe tbody tr th:only-of-type {\n",
       "        vertical-align: middle;\n",
       "    }\n",
       "\n",
       "    .dataframe tbody tr th {\n",
       "        vertical-align: top;\n",
       "    }\n",
       "\n",
       "    .dataframe thead th {\n",
       "        text-align: right;\n",
       "    }\n",
       "</style>\n",
       "<table border=\"1\" class=\"dataframe\">\n",
       "  <thead>\n",
       "    <tr style=\"text-align: right;\">\n",
       "      <th></th>\n",
       "      <th>Pokemon</th>\n",
       "      <th>Gender</th>\n",
       "      <th>Location</th>\n",
       "      <th>Chance</th>\n",
       "      <th>Method</th>\n",
       "      <th>Evolves From</th>\n",
       "      <th>diamond</th>\n",
       "      <th>heartgold</th>\n",
       "      <th>pearl</th>\n",
       "      <th>platinum</th>\n",
       "      <th>soulsilver</th>\n",
       "      <th>slot2-emerald</th>\n",
       "      <th>slot2-firered</th>\n",
       "      <th>slot2-leafgreen</th>\n",
       "      <th>slot2-ruby</th>\n",
       "      <th>slot2-sapphire</th>\n",
       "    </tr>\n",
       "  </thead>\n",
       "  <tbody>\n",
       "    <tr>\n",
       "      <th>0</th>\n",
       "      <td>abomasnow</td>\n",
       "      <td>0.50</td>\n",
       "      <td>mt coronet exterior snowfall</td>\n",
       "      <td>20</td>\n",
       "      <td>walk</td>\n",
       "      <td>snover</td>\n",
       "      <td>1</td>\n",
       "      <td>0</td>\n",
       "      <td>1</td>\n",
       "      <td>1</td>\n",
       "      <td>0</td>\n",
       "      <td>0</td>\n",
       "      <td>0</td>\n",
       "      <td>0</td>\n",
       "      <td>0</td>\n",
       "      <td>0</td>\n",
       "    </tr>\n",
       "    <tr>\n",
       "      <th>1</th>\n",
       "      <td>abra</td>\n",
       "      <td>0.25</td>\n",
       "      <td>sinnoh route 215 area</td>\n",
       "      <td>10</td>\n",
       "      <td>walk</td>\n",
       "      <td>NaN</td>\n",
       "      <td>1</td>\n",
       "      <td>1</td>\n",
       "      <td>1</td>\n",
       "      <td>1</td>\n",
       "      <td>1</td>\n",
       "      <td>0</td>\n",
       "      <td>0</td>\n",
       "      <td>0</td>\n",
       "      <td>0</td>\n",
       "      <td>0</td>\n",
       "    </tr>\n",
       "    <tr>\n",
       "      <th>2</th>\n",
       "      <td>absol</td>\n",
       "      <td>0.50</td>\n",
       "      <td>whirl islands b3f</td>\n",
       "      <td>20</td>\n",
       "      <td>walk</td>\n",
       "      <td>NaN</td>\n",
       "      <td>1</td>\n",
       "      <td>1</td>\n",
       "      <td>1</td>\n",
       "      <td>1</td>\n",
       "      <td>1</td>\n",
       "      <td>0</td>\n",
       "      <td>0</td>\n",
       "      <td>0</td>\n",
       "      <td>0</td>\n",
       "      <td>0</td>\n",
       "    </tr>\n",
       "    <tr>\n",
       "      <th>3</th>\n",
       "      <td>arbok</td>\n",
       "      <td>0.50</td>\n",
       "      <td>kanto route 4 area</td>\n",
       "      <td>10</td>\n",
       "      <td>walk</td>\n",
       "      <td>ekans</td>\n",
       "      <td>1</td>\n",
       "      <td>1</td>\n",
       "      <td>1</td>\n",
       "      <td>1</td>\n",
       "      <td>1</td>\n",
       "      <td>0</td>\n",
       "      <td>1</td>\n",
       "      <td>0</td>\n",
       "      <td>0</td>\n",
       "      <td>0</td>\n",
       "    </tr>\n",
       "    <tr>\n",
       "      <th>4</th>\n",
       "      <td>ariados</td>\n",
       "      <td>0.50</td>\n",
       "      <td>sinnoh route 229 area</td>\n",
       "      <td>10</td>\n",
       "      <td>walk</td>\n",
       "      <td>spinarak</td>\n",
       "      <td>1</td>\n",
       "      <td>1</td>\n",
       "      <td>1</td>\n",
       "      <td>1</td>\n",
       "      <td>0</td>\n",
       "      <td>0</td>\n",
       "      <td>0</td>\n",
       "      <td>0</td>\n",
       "      <td>0</td>\n",
       "      <td>0</td>\n",
       "    </tr>\n",
       "    <tr>\n",
       "      <th>...</th>\n",
       "      <td>...</td>\n",
       "      <td>...</td>\n",
       "      <td>...</td>\n",
       "      <td>...</td>\n",
       "      <td>...</td>\n",
       "      <td>...</td>\n",
       "      <td>...</td>\n",
       "      <td>...</td>\n",
       "      <td>...</td>\n",
       "      <td>...</td>\n",
       "      <td>...</td>\n",
       "      <td>...</td>\n",
       "      <td>...</td>\n",
       "      <td>...</td>\n",
       "      <td>...</td>\n",
       "      <td>...</td>\n",
       "    </tr>\n",
       "    <tr>\n",
       "      <th>254</th>\n",
       "      <td>wurmple</td>\n",
       "      <td>0.50</td>\n",
       "      <td>sinnoh route 205 east towards eterna city</td>\n",
       "      <td>10</td>\n",
       "      <td>walk</td>\n",
       "      <td>NaN</td>\n",
       "      <td>1</td>\n",
       "      <td>0</td>\n",
       "      <td>1</td>\n",
       "      <td>1</td>\n",
       "      <td>0</td>\n",
       "      <td>0</td>\n",
       "      <td>0</td>\n",
       "      <td>0</td>\n",
       "      <td>0</td>\n",
       "      <td>0</td>\n",
       "    </tr>\n",
       "    <tr>\n",
       "      <th>255</th>\n",
       "      <td>yanma</td>\n",
       "      <td>0.50</td>\n",
       "      <td>johto route 35 area</td>\n",
       "      <td>1</td>\n",
       "      <td>walk</td>\n",
       "      <td>NaN</td>\n",
       "      <td>0</td>\n",
       "      <td>1</td>\n",
       "      <td>0</td>\n",
       "      <td>1</td>\n",
       "      <td>1</td>\n",
       "      <td>0</td>\n",
       "      <td>0</td>\n",
       "      <td>0</td>\n",
       "      <td>0</td>\n",
       "      <td>0</td>\n",
       "    </tr>\n",
       "    <tr>\n",
       "      <th>256</th>\n",
       "      <td>zangoose</td>\n",
       "      <td>0.50</td>\n",
       "      <td>sinnoh route 210 west towards celestic town</td>\n",
       "      <td>4</td>\n",
       "      <td>walk</td>\n",
       "      <td>NaN</td>\n",
       "      <td>1</td>\n",
       "      <td>0</td>\n",
       "      <td>1</td>\n",
       "      <td>1</td>\n",
       "      <td>0</td>\n",
       "      <td>0</td>\n",
       "      <td>0</td>\n",
       "      <td>0</td>\n",
       "      <td>1</td>\n",
       "      <td>0</td>\n",
       "    </tr>\n",
       "    <tr>\n",
       "      <th>257</th>\n",
       "      <td>zigzagoon</td>\n",
       "      <td>0.50</td>\n",
       "      <td>unknown all rattata area</td>\n",
       "      <td>20</td>\n",
       "      <td>walk</td>\n",
       "      <td>NaN</td>\n",
       "      <td>1</td>\n",
       "      <td>1</td>\n",
       "      <td>1</td>\n",
       "      <td>1</td>\n",
       "      <td>1</td>\n",
       "      <td>0</td>\n",
       "      <td>0</td>\n",
       "      <td>0</td>\n",
       "      <td>0</td>\n",
       "      <td>0</td>\n",
       "    </tr>\n",
       "    <tr>\n",
       "      <th>258</th>\n",
       "      <td>zubat</td>\n",
       "      <td>0.50</td>\n",
       "      <td>whirl islands b3f</td>\n",
       "      <td>60</td>\n",
       "      <td>walk</td>\n",
       "      <td>NaN</td>\n",
       "      <td>1</td>\n",
       "      <td>1</td>\n",
       "      <td>1</td>\n",
       "      <td>1</td>\n",
       "      <td>1</td>\n",
       "      <td>0</td>\n",
       "      <td>0</td>\n",
       "      <td>0</td>\n",
       "      <td>0</td>\n",
       "      <td>0</td>\n",
       "    </tr>\n",
       "  </tbody>\n",
       "</table>\n",
       "<p>259 rows × 16 columns</p>\n",
       "</div>"
      ],
      "text/plain": [
       "       Pokemon  Gender                                     Location  Chance  \\\n",
       "0    abomasnow    0.50                 mt coronet exterior snowfall      20   \n",
       "1         abra    0.25                        sinnoh route 215 area      10   \n",
       "2        absol    0.50                            whirl islands b3f      20   \n",
       "3        arbok    0.50                           kanto route 4 area      10   \n",
       "4      ariados    0.50                        sinnoh route 229 area      10   \n",
       "..         ...     ...                                          ...     ...   \n",
       "254    wurmple    0.50    sinnoh route 205 east towards eterna city      10   \n",
       "255      yanma    0.50                          johto route 35 area       1   \n",
       "256   zangoose    0.50  sinnoh route 210 west towards celestic town       4   \n",
       "257  zigzagoon    0.50                     unknown all rattata area      20   \n",
       "258      zubat    0.50                            whirl islands b3f      60   \n",
       "\n",
       "    Method Evolves From  diamond  heartgold  pearl  platinum  soulsilver  \\\n",
       "0     walk       snover        1          0      1         1           0   \n",
       "1     walk          NaN        1          1      1         1           1   \n",
       "2     walk          NaN        1          1      1         1           1   \n",
       "3     walk        ekans        1          1      1         1           1   \n",
       "4     walk     spinarak        1          1      1         1           0   \n",
       "..     ...          ...      ...        ...    ...       ...         ...   \n",
       "254   walk          NaN        1          0      1         1           0   \n",
       "255   walk          NaN        0          1      0         1           1   \n",
       "256   walk          NaN        1          0      1         1           0   \n",
       "257   walk          NaN        1          1      1         1           1   \n",
       "258   walk          NaN        1          1      1         1           1   \n",
       "\n",
       "     slot2-emerald  slot2-firered  slot2-leafgreen  slot2-ruby  slot2-sapphire  \n",
       "0                0              0                0           0               0  \n",
       "1                0              0                0           0               0  \n",
       "2                0              0                0           0               0  \n",
       "3                0              1                0           0               0  \n",
       "4                0              0                0           0               0  \n",
       "..             ...            ...              ...         ...             ...  \n",
       "254              0              0                0           0               0  \n",
       "255              0              0                0           0               0  \n",
       "256              0              0                0           1               0  \n",
       "257              0              0                0           0               0  \n",
       "258              0              0                0           0               0  \n",
       "\n",
       "[259 rows x 16 columns]"
      ]
     },
     "execution_count": 11,
     "metadata": {},
     "output_type": "execute_result"
    }
   ],
   "source": [
    "pd.read_csv(\"./data/Cute_Availability.csv\")"
   ]
  },
  {
   "cell_type": "code",
   "execution_count": null,
   "metadata": {},
   "outputs": [],
   "source": []
  },
  {
   "cell_type": "code",
   "execution_count": null,
   "metadata": {},
   "outputs": [],
   "source": []
  },
  {
   "cell_type": "code",
   "execution_count": null,
   "metadata": {},
   "outputs": [],
   "source": []
  },
  {
   "cell_type": "code",
   "execution_count": null,
   "metadata": {},
   "outputs": [],
   "source": []
  },
  {
   "cell_type": "code",
   "execution_count": null,
   "metadata": {},
   "outputs": [],
   "source": []
  },
  {
   "cell_type": "code",
   "execution_count": null,
   "metadata": {},
   "outputs": [],
   "source": []
  },
  {
   "cell_type": "code",
   "execution_count": null,
   "metadata": {},
   "outputs": [],
   "source": []
  },
  {
   "cell_type": "code",
   "execution_count": null,
   "metadata": {},
   "outputs": [],
   "source": []
  },
  {
   "cell_type": "code",
   "execution_count": null,
   "metadata": {},
   "outputs": [],
   "source": []
  },
  {
   "cell_type": "code",
   "execution_count": null,
   "metadata": {},
   "outputs": [],
   "source": []
  },
  {
   "cell_type": "code",
   "execution_count": null,
   "metadata": {},
   "outputs": [],
   "source": []
  },
  {
   "cell_type": "code",
   "execution_count": null,
   "metadata": {},
   "outputs": [],
   "source": []
  },
  {
   "cell_type": "code",
   "execution_count": null,
   "metadata": {},
   "outputs": [],
   "source": []
  },
  {
   "cell_type": "code",
   "execution_count": null,
   "metadata": {},
   "outputs": [],
   "source": []
  },
  {
   "cell_type": "code",
   "execution_count": null,
   "metadata": {},
   "outputs": [],
   "source": []
  },
  {
   "cell_type": "code",
   "execution_count": null,
   "metadata": {},
   "outputs": [],
   "source": []
  },
  {
   "cell_type": "code",
   "execution_count": null,
   "metadata": {},
   "outputs": [],
   "source": []
  },
  {
   "cell_type": "code",
   "execution_count": null,
   "metadata": {},
   "outputs": [],
   "source": []
  },
  {
   "cell_type": "code",
   "execution_count": null,
   "metadata": {},
   "outputs": [],
   "source": []
  },
  {
   "cell_type": "code",
   "execution_count": null,
   "metadata": {},
   "outputs": [],
   "source": []
  },
  {
   "cell_type": "code",
   "execution_count": null,
   "metadata": {},
   "outputs": [],
   "source": []
  },
  {
   "cell_type": "code",
   "execution_count": null,
   "metadata": {},
   "outputs": [],
   "source": []
  },
  {
   "cell_type": "code",
   "execution_count": null,
   "metadata": {},
   "outputs": [],
   "source": []
  },
  {
   "cell_type": "code",
   "execution_count": null,
   "metadata": {},
   "outputs": [],
   "source": []
  },
  {
   "cell_type": "markdown",
   "metadata": {},
   "source": [
    "## Pokemon to be catched before returning Ruby"
   ]
  },
  {
   "cell_type": "code",
   "execution_count": 106,
   "metadata": {},
   "outputs": [],
   "source": [
    "#dict_row = {}\n",
    "list_row_dicts = []\n",
    "for key_one_pokemon in list(dict_pokemon.keys()):\n",
    "    for dict_two_encounter in dict_pokemon[key_one_pokemon][\"Encounters\"]:\n",
    "        #print(dict_two_encounter)\n",
    "        #for dict_ugh_version in dict_two_encounter:\n",
    "        #    print(\"-----\")\n",
    "        #    print(dict_ugh_version)\n",
    "        for dict_tre_version in dict_two_encounter[\"version_details\"]:#[\"encounter_details\"]:\n",
    "            #print(\"---\")\n",
    "            #print(dict_tre_version)\n",
    "            for dict_for_ent_details in dict_tre_version[\"encounter_details\"]:\n",
    "                #print(\"---\")\n",
    "                #print(dict_for_ent_details)\n",
    "                #print(dict_for_ent_details.keys())\n",
    "                dict_row = {\n",
    "                    \"Pokemon\"      : key_one_pokemon,\n",
    "                    \"Gender\"       : dict_pokemon[key_one_pokemon][\"Gender Rate\"],\n",
    "                    \"Location\"     : dict_two_encounter[\"location_area\"][\"name\"],\n",
    "                    #\"Max_Chance\"   : dict_tre_version[\"max_chance\"],\n",
    "                    \"Version\"      : dict_tre_version[\"version\"][\"name\"],\n",
    "                    \"Chance\"       : dict_for_ent_details[\"chance\"],\n",
    "                    \"Condition\"    : dict_for_ent_details[\"condition_values\"],#[\"name\"],\n",
    "                    \"Max Level\"    : dict_for_ent_details[\"max_level\"],\n",
    "                    \"Min Level\"    : dict_for_ent_details[\"min_level\"],\n",
    "                    \"Method\"       : dict_for_ent_details[\"method\"][\"name\"],\n",
    "                    \"Evolves From\" : dict_pokemon[key_one_pokemon][\"Evolves From\"]\n",
    "                }\n",
    "            list_row_dicts.append(dict_row)\n",
    "df = pd.DataFrame(list_row_dicts)\n",
    "#df.head(20)"
   ]
  },
  {
   "cell_type": "code",
   "execution_count": 34,
   "metadata": {
    "collapsed": true
   },
   "outputs": [
    {
     "ename": "TypeError",
     "evalue": "string indices must be integers",
     "output_type": "error",
     "traceback": [
      "\u001b[1;31m---------------------------------------------------------------------------\u001b[0m",
      "\u001b[1;31mTypeError\u001b[0m                                 Traceback (most recent call last)",
      "\u001b[1;32m<ipython-input-34-a597aba729bc>\u001b[0m in \u001b[0;36m<module>\u001b[1;34m\u001b[0m\n\u001b[0;32m      6\u001b[0m     \u001b[1;32mreturn\u001b[0m \u001b[0mvalue_out\u001b[0m\u001b[1;33m\u001b[0m\u001b[1;33m\u001b[0m\u001b[0m\n\u001b[0;32m      7\u001b[0m \u001b[1;33m\u001b[0m\u001b[0m\n\u001b[1;32m----> 8\u001b[1;33m \u001b[0mdf\u001b[0m\u001b[1;33m[\u001b[0m\u001b[1;34m\"Evolves From\"\u001b[0m\u001b[1;33m]\u001b[0m \u001b[1;33m=\u001b[0m \u001b[0mdf\u001b[0m\u001b[1;33m[\u001b[0m\u001b[1;34m\"Evolves From\"\u001b[0m\u001b[1;33m]\u001b[0m\u001b[1;33m.\u001b[0m\u001b[0mmap\u001b[0m\u001b[1;33m(\u001b[0m\u001b[1;32mlambda\u001b[0m \u001b[0mx\u001b[0m\u001b[1;33m:\u001b[0m \u001b[0mfun_temp\u001b[0m\u001b[1;33m(\u001b[0m\u001b[0mx\u001b[0m\u001b[1;33m)\u001b[0m\u001b[1;33m)\u001b[0m\u001b[1;33m\u001b[0m\u001b[1;33m\u001b[0m\u001b[0m\n\u001b[0m",
      "\u001b[1;32m~\\anaconda3\\lib\\site-packages\\pandas\\core\\series.py\u001b[0m in \u001b[0;36mmap\u001b[1;34m(self, arg, na_action)\u001b[0m\n\u001b[0;32m   3968\u001b[0m         \u001b[0mdtype\u001b[0m\u001b[1;33m:\u001b[0m \u001b[0mobject\u001b[0m\u001b[1;33m\u001b[0m\u001b[1;33m\u001b[0m\u001b[0m\n\u001b[0;32m   3969\u001b[0m         \"\"\"\n\u001b[1;32m-> 3970\u001b[1;33m         \u001b[0mnew_values\u001b[0m \u001b[1;33m=\u001b[0m \u001b[0msuper\u001b[0m\u001b[1;33m(\u001b[0m\u001b[1;33m)\u001b[0m\u001b[1;33m.\u001b[0m\u001b[0m_map_values\u001b[0m\u001b[1;33m(\u001b[0m\u001b[0marg\u001b[0m\u001b[1;33m,\u001b[0m \u001b[0mna_action\u001b[0m\u001b[1;33m=\u001b[0m\u001b[0mna_action\u001b[0m\u001b[1;33m)\u001b[0m\u001b[1;33m\u001b[0m\u001b[1;33m\u001b[0m\u001b[0m\n\u001b[0m\u001b[0;32m   3971\u001b[0m         return self._constructor(new_values, index=self.index).__finalize__(\n\u001b[0;32m   3972\u001b[0m             \u001b[0mself\u001b[0m\u001b[1;33m,\u001b[0m \u001b[0mmethod\u001b[0m\u001b[1;33m=\u001b[0m\u001b[1;34m\"map\"\u001b[0m\u001b[1;33m\u001b[0m\u001b[1;33m\u001b[0m\u001b[0m\n",
      "\u001b[1;32m~\\anaconda3\\lib\\site-packages\\pandas\\core\\base.py\u001b[0m in \u001b[0;36m_map_values\u001b[1;34m(self, mapper, na_action)\u001b[0m\n\u001b[0;32m   1158\u001b[0m \u001b[1;33m\u001b[0m\u001b[0m\n\u001b[0;32m   1159\u001b[0m         \u001b[1;31m# mapper is a function\u001b[0m\u001b[1;33m\u001b[0m\u001b[1;33m\u001b[0m\u001b[1;33m\u001b[0m\u001b[0m\n\u001b[1;32m-> 1160\u001b[1;33m         \u001b[0mnew_values\u001b[0m \u001b[1;33m=\u001b[0m \u001b[0mmap_f\u001b[0m\u001b[1;33m(\u001b[0m\u001b[0mvalues\u001b[0m\u001b[1;33m,\u001b[0m \u001b[0mmapper\u001b[0m\u001b[1;33m)\u001b[0m\u001b[1;33m\u001b[0m\u001b[1;33m\u001b[0m\u001b[0m\n\u001b[0m\u001b[0;32m   1161\u001b[0m \u001b[1;33m\u001b[0m\u001b[0m\n\u001b[0;32m   1162\u001b[0m         \u001b[1;32mreturn\u001b[0m \u001b[0mnew_values\u001b[0m\u001b[1;33m\u001b[0m\u001b[1;33m\u001b[0m\u001b[0m\n",
      "\u001b[1;32mpandas\\_libs\\lib.pyx\u001b[0m in \u001b[0;36mpandas._libs.lib.map_infer\u001b[1;34m()\u001b[0m\n",
      "\u001b[1;32m<ipython-input-34-a597aba729bc>\u001b[0m in \u001b[0;36m<lambda>\u001b[1;34m(x)\u001b[0m\n\u001b[0;32m      6\u001b[0m     \u001b[1;32mreturn\u001b[0m \u001b[0mvalue_out\u001b[0m\u001b[1;33m\u001b[0m\u001b[1;33m\u001b[0m\u001b[0m\n\u001b[0;32m      7\u001b[0m \u001b[1;33m\u001b[0m\u001b[0m\n\u001b[1;32m----> 8\u001b[1;33m \u001b[0mdf\u001b[0m\u001b[1;33m[\u001b[0m\u001b[1;34m\"Evolves From\"\u001b[0m\u001b[1;33m]\u001b[0m \u001b[1;33m=\u001b[0m \u001b[0mdf\u001b[0m\u001b[1;33m[\u001b[0m\u001b[1;34m\"Evolves From\"\u001b[0m\u001b[1;33m]\u001b[0m\u001b[1;33m.\u001b[0m\u001b[0mmap\u001b[0m\u001b[1;33m(\u001b[0m\u001b[1;32mlambda\u001b[0m \u001b[0mx\u001b[0m\u001b[1;33m:\u001b[0m \u001b[0mfun_temp\u001b[0m\u001b[1;33m(\u001b[0m\u001b[0mx\u001b[0m\u001b[1;33m)\u001b[0m\u001b[1;33m)\u001b[0m\u001b[1;33m\u001b[0m\u001b[1;33m\u001b[0m\u001b[0m\n\u001b[0m",
      "\u001b[1;32m<ipython-input-34-a597aba729bc>\u001b[0m in \u001b[0;36mfun_temp\u001b[1;34m(value_in)\u001b[0m\n\u001b[0;32m      3\u001b[0m         \u001b[0mvalue_out\u001b[0m \u001b[1;33m=\u001b[0m \u001b[1;32mNone\u001b[0m\u001b[1;33m\u001b[0m\u001b[1;33m\u001b[0m\u001b[0m\n\u001b[0;32m      4\u001b[0m     \u001b[1;32melse\u001b[0m\u001b[1;33m:\u001b[0m\u001b[1;33m\u001b[0m\u001b[1;33m\u001b[0m\u001b[0m\n\u001b[1;32m----> 5\u001b[1;33m         \u001b[0mvalue_out\u001b[0m \u001b[1;33m=\u001b[0m \u001b[0mvalue_in\u001b[0m\u001b[1;33m[\u001b[0m\u001b[1;34m\"name\"\u001b[0m\u001b[1;33m]\u001b[0m\u001b[1;33m\u001b[0m\u001b[1;33m\u001b[0m\u001b[0m\n\u001b[0m\u001b[0;32m      6\u001b[0m     \u001b[1;32mreturn\u001b[0m \u001b[0mvalue_out\u001b[0m\u001b[1;33m\u001b[0m\u001b[1;33m\u001b[0m\u001b[0m\n\u001b[0;32m      7\u001b[0m \u001b[1;33m\u001b[0m\u001b[0m\n",
      "\u001b[1;31mTypeError\u001b[0m: string indices must be integers"
     ]
    }
   ],
   "source": [
    "def fun_temp(value_in):\n",
    "    if value_in == None:\n",
    "        value_out = None\n",
    "    else:\n",
    "        value_out = value_in[\"name\"]\n",
    "    return value_out\n",
    "\n",
    "df[\"Evolves From\"] = df[\"Evolves From\"].map(lambda x: fun_temp(x)) "
   ]
  },
  {
   "cell_type": "code",
   "execution_count": 35,
   "metadata": {},
   "outputs": [],
   "source": [
    "df_catch = df.drop([\"Gender\",\"Location\", \"Chance\", \"Condition\", \"Max Level\", \"Min Level\", \"Method\"], axis = 1)"
   ]
  },
  {
   "cell_type": "code",
   "execution_count": 36,
   "metadata": {},
   "outputs": [],
   "source": [
    "df_catch = pd.concat([df_catch, pd.get_dummies(df_catch[\"Version\"])], axis = 1)"
   ]
  },
  {
   "cell_type": "code",
   "execution_count": 42,
   "metadata": {},
   "outputs": [],
   "source": [
    "df_catch = df_catch.drop(\"Version\", axis = 1).drop_duplicates()"
   ]
  },
  {
   "cell_type": "code",
   "execution_count": 74,
   "metadata": {},
   "outputs": [],
   "source": [
    "list_arrays = []\n",
    "for mon in df_catch[\"Pokemon\"].unique():\n",
    "    list_arrays.append(df_catch[df_catch[\"Pokemon\"] == mon].sum())"
   ]
  },
  {
   "cell_type": "code",
   "execution_count": 76,
   "metadata": {},
   "outputs": [],
   "source": [
    "df_catch = pd.DataFrame(list_arrays)"
   ]
  },
  {
   "cell_type": "code",
   "execution_count": 96,
   "metadata": {},
   "outputs": [],
   "source": [
    "def fun_singularize(word_in):\n",
    "    word_out = \"\"\n",
    "    if type(word_in) != str:\n",
    "        word_out = word_in\n",
    "    else:\n",
    "        for i in range(1, len(word_in) + 1):\n",
    "            word = word_in[:i]\n",
    "            count = word_in.count(word)\n",
    "            if count * len(word) == len(word_in):\n",
    "                word_out = word\n",
    "                break\n",
    "    return word_out\n",
    "\n",
    "test = \"blahblahblah\"\n",
    "test_2 = \"bulbasaurbulbasaurbulbasaurbulbasaurbulbasaurbulbasaurbulbasaurbulbasaurbulbasaur\"\n",
    "\n",
    "result1 = fun_singularize(test)\n",
    "result2 = fun_singularize(test_2)\n",
    "\n",
    "#print(result1)  # Output: \"blah\"\n",
    "#print(result2)  # Output: \"bulbasaur\"\n",
    "df_catch[\"Pokemon\"] = df_catch[\"Pokemon\"].map(lambda x: fun_singularize(x))\n",
    "df_catch[\"Evolves From\"] = df_catch[\"Evolves From\"].map(lambda x: fun_singularize(x))"
   ]
  },
  {
   "cell_type": "code",
   "execution_count": 109,
   "metadata": {},
   "outputs": [
    {
     "data": {
      "text/plain": [
       "'bulbasaur'"
      ]
     },
     "execution_count": 109,
     "metadata": {},
     "output_type": "execute_result"
    }
   ],
   "source": [
    "fun_singularize(\"bulbasaurbulbasaurbulbasaurbulbasaurbulbasaurbulbasaurbulbasaurbulbasaurbulbasaur\")"
   ]
  },
  {
   "cell_type": "code",
   "execution_count": 101,
   "metadata": {},
   "outputs": [
    {
     "data": {
      "text/plain": [
       "Index(['Pokemon', 'Evolves From', 'alpha-sapphire', 'black', 'black-2', 'blue',\n",
       "       'crystal', 'diamond', 'emerald', 'firered', 'gold', 'heartgold',\n",
       "       'leafgreen', 'omega-ruby', 'pearl', 'platinum', 'red', 'ruby',\n",
       "       'sapphire', 'silver', 'soulsilver', 'sun', 'white', 'white-2', 'x', 'y',\n",
       "       'yellow'],\n",
       "      dtype='object')"
      ]
     },
     "execution_count": 101,
     "metadata": {},
     "output_type": "execute_result"
    }
   ],
   "source": [
    "df_catch.columns"
   ]
  },
  {
   "cell_type": "code",
   "execution_count": 105,
   "metadata": {},
   "outputs": [
    {
     "data": {
      "text/plain": [
       "147         xatu\n",
       "175    heracross\n",
       "217      silcoon\n",
       "226      taillow\n",
       "234    shroomish\n",
       "242     hariyama\n",
       "249         aron\n",
       "250       lairon\n",
       "254    manectric\n",
       "276      altaria\n",
       "286      claydol\n",
       "287       lileep\n",
       "288      anorith\n",
       "289       feebas\n",
       "291     castform\n",
       "292      kecleon\n",
       "293      shuppet\n",
       "297      tropius\n",
       "300       wynaut\n",
       "314     regirock\n",
       "315       regice\n",
       "316    registeel\n",
       "317       latias\n",
       "Name: Pokemon, dtype: object"
      ]
     },
     "execution_count": 105,
     "metadata": {},
     "output_type": "execute_result"
    }
   ],
   "source": [
    "df_catch[(df_catch[\"ruby\"] == 1) &\n",
    "         ((df_catch[\"pearl\"] == 0) & \n",
    "          (df_catch[\"soulsilver\"] == 0))][['Pokemon', 'Evolves From', 'firered', 'pearl', 'ruby', 'soulsilver']][\"Pokemon\"]#.unique()"
   ]
  },
  {
   "cell_type": "code",
   "execution_count": null,
   "metadata": {},
   "outputs": [],
   "source": [
    "226      taillow\n",
    "234    shroomish\n",
    "242     hariyama\n",
    "249         aron\n",
    "250       lairon\n",
    "254    manectric\n",
    "276      altaria\n",
    "286      claydol\n",
    "287       lileep\n",
    "288      anorith\n",
    "291     castform\n",
    "292      kecleon\n",
    "293      shuppet\n",
    "297      tropius\n",
    "300       wynaut\n"
   ]
  },
  {
   "cell_type": "code",
   "execution_count": null,
   "metadata": {},
   "outputs": [],
   "source": []
  },
  {
   "cell_type": "code",
   "execution_count": null,
   "metadata": {},
   "outputs": [],
   "source": []
  },
  {
   "cell_type": "code",
   "execution_count": null,
   "metadata": {},
   "outputs": [],
   "source": []
  },
  {
   "cell_type": "code",
   "execution_count": null,
   "metadata": {},
   "outputs": [],
   "source": []
  },
  {
   "cell_type": "code",
   "execution_count": null,
   "metadata": {},
   "outputs": [],
   "source": []
  },
  {
   "cell_type": "code",
   "execution_count": null,
   "metadata": {},
   "outputs": [],
   "source": []
  },
  {
   "cell_type": "code",
   "execution_count": null,
   "metadata": {},
   "outputs": [],
   "source": []
  },
  {
   "cell_type": "code",
   "execution_count": null,
   "metadata": {},
   "outputs": [],
   "source": []
  },
  {
   "cell_type": "code",
   "execution_count": null,
   "metadata": {},
   "outputs": [],
   "source": []
  },
  {
   "cell_type": "code",
   "execution_count": null,
   "metadata": {},
   "outputs": [],
   "source": []
  },
  {
   "cell_type": "code",
   "execution_count": null,
   "metadata": {},
   "outputs": [],
   "source": []
  },
  {
   "cell_type": "code",
   "execution_count": null,
   "metadata": {},
   "outputs": [],
   "source": []
  },
  {
   "cell_type": "code",
   "execution_count": null,
   "metadata": {},
   "outputs": [],
   "source": []
  },
  {
   "cell_type": "code",
   "execution_count": null,
   "metadata": {},
   "outputs": [],
   "source": []
  },
  {
   "cell_type": "code",
   "execution_count": null,
   "metadata": {},
   "outputs": [],
   "source": []
  },
  {
   "cell_type": "code",
   "execution_count": null,
   "metadata": {},
   "outputs": [],
   "source": []
  },
  {
   "cell_type": "code",
   "execution_count": null,
   "metadata": {},
   "outputs": [],
   "source": []
  },
  {
   "cell_type": "markdown",
   "metadata": {},
   "source": [
    "## Recycling"
   ]
  },
  {
   "cell_type": "markdown",
   "metadata": {},
   "source": [
    "### Solving for pokemon who's post evolution can be caught, but not their pre-evolution."
   ]
  },
  {
   "cell_type": "code",
   "execution_count": 22,
   "metadata": {},
   "outputs": [
    {
     "ename": "KeyError",
     "evalue": "False",
     "output_type": "error",
     "traceback": [
      "\u001b[1;31m---------------------------------------------------------------------------\u001b[0m",
      "\u001b[1;31mKeyError\u001b[0m                                  Traceback (most recent call last)",
      "\u001b[1;32m~\\anaconda3\\lib\\site-packages\\pandas\\core\\indexes\\base.py\u001b[0m in \u001b[0;36mget_loc\u001b[1;34m(self, key, method, tolerance)\u001b[0m\n\u001b[0;32m   2894\u001b[0m             \u001b[1;32mtry\u001b[0m\u001b[1;33m:\u001b[0m\u001b[1;33m\u001b[0m\u001b[1;33m\u001b[0m\u001b[0m\n\u001b[1;32m-> 2895\u001b[1;33m                 \u001b[1;32mreturn\u001b[0m \u001b[0mself\u001b[0m\u001b[1;33m.\u001b[0m\u001b[0m_engine\u001b[0m\u001b[1;33m.\u001b[0m\u001b[0mget_loc\u001b[0m\u001b[1;33m(\u001b[0m\u001b[0mcasted_key\u001b[0m\u001b[1;33m)\u001b[0m\u001b[1;33m\u001b[0m\u001b[1;33m\u001b[0m\u001b[0m\n\u001b[0m\u001b[0;32m   2896\u001b[0m             \u001b[1;32mexcept\u001b[0m \u001b[0mKeyError\u001b[0m \u001b[1;32mas\u001b[0m \u001b[0merr\u001b[0m\u001b[1;33m:\u001b[0m\u001b[1;33m\u001b[0m\u001b[1;33m\u001b[0m\u001b[0m\n",
      "\u001b[1;32mpandas\\_libs\\index.pyx\u001b[0m in \u001b[0;36mpandas._libs.index.IndexEngine.get_loc\u001b[1;34m()\u001b[0m\n",
      "\u001b[1;32mpandas\\_libs\\index.pyx\u001b[0m in \u001b[0;36mpandas._libs.index.IndexEngine.get_loc\u001b[1;34m()\u001b[0m\n",
      "\u001b[1;32mpandas\\_libs\\hashtable_class_helper.pxi\u001b[0m in \u001b[0;36mpandas._libs.hashtable.PyObjectHashTable.get_item\u001b[1;34m()\u001b[0m\n",
      "\u001b[1;32mpandas\\_libs\\hashtable_class_helper.pxi\u001b[0m in \u001b[0;36mpandas._libs.hashtable.PyObjectHashTable.get_item\u001b[1;34m()\u001b[0m\n",
      "\u001b[1;31mKeyError\u001b[0m: False",
      "\nThe above exception was the direct cause of the following exception:\n",
      "\u001b[1;31mKeyError\u001b[0m                                  Traceback (most recent call last)",
      "\u001b[1;32m<ipython-input-22-fd1fc62ed5cf>\u001b[0m in \u001b[0;36m<module>\u001b[1;34m\u001b[0m\n\u001b[1;32m----> 1\u001b[1;33m \u001b[1;32mfor\u001b[0m \u001b[0mmon\u001b[0m \u001b[1;32min\u001b[0m \u001b[0mdf\u001b[0m\u001b[1;33m[\u001b[0m\u001b[0mtype\u001b[0m\u001b[1;33m(\u001b[0m\u001b[0mdf\u001b[0m\u001b[1;33m[\u001b[0m\u001b[1;34m\"Evolves From\"\u001b[0m\u001b[1;33m]\u001b[0m\u001b[1;33m)\u001b[0m \u001b[1;33m==\u001b[0m \u001b[1;32mNone\u001b[0m\u001b[1;33m]\u001b[0m\u001b[1;33m[\u001b[0m\u001b[1;34m\"Pokemon\"\u001b[0m\u001b[1;33m]\u001b[0m\u001b[1;33m.\u001b[0m\u001b[0munique\u001b[0m\u001b[1;33m(\u001b[0m\u001b[1;33m)\u001b[0m\u001b[1;33m:\u001b[0m\u001b[1;33m\u001b[0m\u001b[1;33m\u001b[0m\u001b[0m\n\u001b[0m\u001b[0;32m      2\u001b[0m     \u001b[1;32mif\u001b[0m \u001b[0mmon\u001b[0m \u001b[1;32mnot\u001b[0m \u001b[1;32min\u001b[0m \u001b[0mdf\u001b[0m\u001b[1;33m[\u001b[0m\u001b[1;34m\"Evolves From\"\u001b[0m\u001b[1;33m]\u001b[0m\u001b[1;33m.\u001b[0m\u001b[0munique\u001b[0m\u001b[1;33m(\u001b[0m\u001b[1;33m)\u001b[0m\u001b[1;33m:\u001b[0m\u001b[1;33m\u001b[0m\u001b[1;33m\u001b[0m\u001b[0m\n\u001b[0;32m      3\u001b[0m         \u001b[0mprint\u001b[0m\u001b[1;33m(\u001b[0m\u001b[0mmon\u001b[0m\u001b[1;33m)\u001b[0m\u001b[1;33m\u001b[0m\u001b[1;33m\u001b[0m\u001b[0m\n",
      "\u001b[1;32m~\\anaconda3\\lib\\site-packages\\pandas\\core\\frame.py\u001b[0m in \u001b[0;36m__getitem__\u001b[1;34m(self, key)\u001b[0m\n\u001b[0;32m   2900\u001b[0m             \u001b[1;32mif\u001b[0m \u001b[0mself\u001b[0m\u001b[1;33m.\u001b[0m\u001b[0mcolumns\u001b[0m\u001b[1;33m.\u001b[0m\u001b[0mnlevels\u001b[0m \u001b[1;33m>\u001b[0m \u001b[1;36m1\u001b[0m\u001b[1;33m:\u001b[0m\u001b[1;33m\u001b[0m\u001b[1;33m\u001b[0m\u001b[0m\n\u001b[0;32m   2901\u001b[0m                 \u001b[1;32mreturn\u001b[0m \u001b[0mself\u001b[0m\u001b[1;33m.\u001b[0m\u001b[0m_getitem_multilevel\u001b[0m\u001b[1;33m(\u001b[0m\u001b[0mkey\u001b[0m\u001b[1;33m)\u001b[0m\u001b[1;33m\u001b[0m\u001b[1;33m\u001b[0m\u001b[0m\n\u001b[1;32m-> 2902\u001b[1;33m             \u001b[0mindexer\u001b[0m \u001b[1;33m=\u001b[0m \u001b[0mself\u001b[0m\u001b[1;33m.\u001b[0m\u001b[0mcolumns\u001b[0m\u001b[1;33m.\u001b[0m\u001b[0mget_loc\u001b[0m\u001b[1;33m(\u001b[0m\u001b[0mkey\u001b[0m\u001b[1;33m)\u001b[0m\u001b[1;33m\u001b[0m\u001b[1;33m\u001b[0m\u001b[0m\n\u001b[0m\u001b[0;32m   2903\u001b[0m             \u001b[1;32mif\u001b[0m \u001b[0mis_integer\u001b[0m\u001b[1;33m(\u001b[0m\u001b[0mindexer\u001b[0m\u001b[1;33m)\u001b[0m\u001b[1;33m:\u001b[0m\u001b[1;33m\u001b[0m\u001b[1;33m\u001b[0m\u001b[0m\n\u001b[0;32m   2904\u001b[0m                 \u001b[0mindexer\u001b[0m \u001b[1;33m=\u001b[0m \u001b[1;33m[\u001b[0m\u001b[0mindexer\u001b[0m\u001b[1;33m]\u001b[0m\u001b[1;33m\u001b[0m\u001b[1;33m\u001b[0m\u001b[0m\n",
      "\u001b[1;32m~\\anaconda3\\lib\\site-packages\\pandas\\core\\indexes\\base.py\u001b[0m in \u001b[0;36mget_loc\u001b[1;34m(self, key, method, tolerance)\u001b[0m\n\u001b[0;32m   2895\u001b[0m                 \u001b[1;32mreturn\u001b[0m \u001b[0mself\u001b[0m\u001b[1;33m.\u001b[0m\u001b[0m_engine\u001b[0m\u001b[1;33m.\u001b[0m\u001b[0mget_loc\u001b[0m\u001b[1;33m(\u001b[0m\u001b[0mcasted_key\u001b[0m\u001b[1;33m)\u001b[0m\u001b[1;33m\u001b[0m\u001b[1;33m\u001b[0m\u001b[0m\n\u001b[0;32m   2896\u001b[0m             \u001b[1;32mexcept\u001b[0m \u001b[0mKeyError\u001b[0m \u001b[1;32mas\u001b[0m \u001b[0merr\u001b[0m\u001b[1;33m:\u001b[0m\u001b[1;33m\u001b[0m\u001b[1;33m\u001b[0m\u001b[0m\n\u001b[1;32m-> 2897\u001b[1;33m                 \u001b[1;32mraise\u001b[0m \u001b[0mKeyError\u001b[0m\u001b[1;33m(\u001b[0m\u001b[0mkey\u001b[0m\u001b[1;33m)\u001b[0m \u001b[1;32mfrom\u001b[0m \u001b[0merr\u001b[0m\u001b[1;33m\u001b[0m\u001b[1;33m\u001b[0m\u001b[0m\n\u001b[0m\u001b[0;32m   2898\u001b[0m \u001b[1;33m\u001b[0m\u001b[0m\n\u001b[0;32m   2899\u001b[0m         \u001b[1;32mif\u001b[0m \u001b[0mtolerance\u001b[0m \u001b[1;32mis\u001b[0m \u001b[1;32mnot\u001b[0m \u001b[1;32mNone\u001b[0m\u001b[1;33m:\u001b[0m\u001b[1;33m\u001b[0m\u001b[1;33m\u001b[0m\u001b[0m\n",
      "\u001b[1;31mKeyError\u001b[0m: False"
     ]
    }
   ],
   "source": [
    "for mon in df[type(df[\"Evolves From\"]) == None][\"Pokemon\"].unique():\n",
    "    if mon not in df[\"Evolves From\"].unique():\n",
    "        print(mon)"
   ]
  },
  {
   "cell_type": "code",
   "execution_count": null,
   "metadata": {},
   "outputs": [],
   "source": [
    "df[\"Evolves From\"].dropna().unique()"
   ]
  },
  {
   "cell_type": "code",
   "execution_count": null,
   "metadata": {},
   "outputs": [],
   "source": [
    "df.isna().sum()"
   ]
  },
  {
   "cell_type": "code",
   "execution_count": null,
   "metadata": {},
   "outputs": [],
   "source": [
    "df[\"Condition\"] = df[\"Condition\"].fillna(\"No Condition\")"
   ]
  },
  {
   "cell_type": "code",
   "execution_count": null,
   "metadata": {},
   "outputs": [],
   "source": [
    "list_has_evo_options = list(df.dropna()[\"Pokemon\"].unique())"
   ]
  },
  {
   "cell_type": "code",
   "execution_count": null,
   "metadata": {},
   "outputs": [],
   "source": [
    "list_prevolutions = list(df[\"Evolves From\"].dropna().unique())"
   ]
  },
  {
   "cell_type": "code",
   "execution_count": null,
   "metadata": {},
   "outputs": [],
   "source": [
    "x for x in df[\"Pokemlist_prevolutions"
   ]
  },
  {
   "cell_type": "code",
   "execution_count": null,
   "metadata": {},
   "outputs": [],
   "source": []
  },
  {
   "cell_type": "code",
   "execution_count": null,
   "metadata": {},
   "outputs": [],
   "source": []
  },
  {
   "cell_type": "code",
   "execution_count": null,
   "metadata": {},
   "outputs": [],
   "source": []
  },
  {
   "cell_type": "code",
   "execution_count": null,
   "metadata": {},
   "outputs": [],
   "source": []
  },
  {
   "cell_type": "code",
   "execution_count": null,
   "metadata": {},
   "outputs": [],
   "source": []
  },
  {
   "cell_type": "code",
   "execution_count": null,
   "metadata": {},
   "outputs": [],
   "source": []
  },
  {
   "cell_type": "code",
   "execution_count": null,
   "metadata": {},
   "outputs": [],
   "source": []
  },
  {
   "cell_type": "code",
   "execution_count": null,
   "metadata": {},
   "outputs": [],
   "source": []
  },
  {
   "cell_type": "code",
   "execution_count": null,
   "metadata": {},
   "outputs": [],
   "source": []
  },
  {
   "cell_type": "code",
   "execution_count": null,
   "metadata": {},
   "outputs": [],
   "source": []
  },
  {
   "cell_type": "code",
   "execution_count": null,
   "metadata": {},
   "outputs": [],
   "source": []
  },
  {
   "cell_type": "code",
   "execution_count": null,
   "metadata": {},
   "outputs": [],
   "source": []
  },
  {
   "cell_type": "code",
   "execution_count": null,
   "metadata": {},
   "outputs": [],
   "source": []
  },
  {
   "cell_type": "code",
   "execution_count": null,
   "metadata": {},
   "outputs": [],
   "source": []
  },
  {
   "cell_type": "code",
   "execution_count": null,
   "metadata": {},
   "outputs": [],
   "source": []
  },
  {
   "cell_type": "code",
   "execution_count": null,
   "metadata": {},
   "outputs": [],
   "source": []
  },
  {
   "cell_type": "code",
   "execution_count": null,
   "metadata": {},
   "outputs": [],
   "source": [
    "https://www.kaggle.com/aravrs/titanic-models-benchmark"
   ]
  },
  {
   "cell_type": "code",
   "execution_count": null,
   "metadata": {},
   "outputs": [],
   "source": []
  },
  {
   "cell_type": "code",
   "execution_count": null,
   "metadata": {},
   "outputs": [],
   "source": [
    "sns.heatmap(train_df.corr(), annot=True, cmap='RdBu_r',\n",
    "            center=0, vmin=-1, vmax=1, linewidth=2, annot_kws={\"fontsize\":12},\n",
    "            square=False, cbar=True).set_title('Correlation matrix', fontsize=24);\n",
    "plt.yticks(rotation=0);"
   ]
  },
  {
   "cell_type": "code",
   "execution_count": null,
   "metadata": {},
   "outputs": [],
   "source": []
  },
  {
   "cell_type": "code",
   "execution_count": null,
   "metadata": {},
   "outputs": [],
   "source": []
  },
  {
   "cell_type": "code",
   "execution_count": null,
   "metadata": {},
   "outputs": [],
   "source": []
  },
  {
   "cell_type": "markdown",
   "metadata": {},
   "source": [
    "# Most recent Version\n",
    "list_dex = [x.replace(\"-\", \"\"\n",
    "            ).replace(\" \", \"-\"\n",
    "            ).replace(\".\",\"\"\n",
    "            ).replace(\"'\",\"\"\n",
    "            ).replace(\"Normal\", \"\"\n",
    "            ).replace(\"eastsea\",\"\"\n",
    "            ).replace(\"plantcloak\",\"\"\n",
    "            ).lower() for x in list_dex if \"Form\" not in x]\n",
    "# Remove UnknownOne form\n",
    "# Swap \"CastformNormal\" for \"Castform\"\n",
    "# Swap \"Burmy\" MAYBE.\n",
    "# Swap \"Shellos Sea\"'s for Shellos\n",
    "# Swap \"Gastrodon Sea\"'s for Gastrodon\n",
    "# Remove Rotom"
   ]
  },
  {
   "cell_type": "code",
   "execution_count": 44,
   "metadata": {},
   "outputs": [
    {
     "name": "stdout",
     "output_type": "stream",
     "text": [
      "22  was skipped.\n"
     ]
    }
   ],
   "source": [
    "list_dex = [str(i) for i in range(1, 494)]\n",
    "dict_big_pokemon = {}\n",
    "for pokemon in list_dex:\n",
    "    #pokemon = pokemon#.replace(\" \", \"-\").replace(\".\",\"\").replace(\"'\",\"\").replace(\"Normal\", \"\").lower()\n",
    "    try:\n",
    "        dict_game = requests.get(\"https://pokeapi.co/api/v2/pokemon/\" + pokemon).json()\n",
    "        dict_species = requests.get(\"https://pokeapi.co/api/v2/pokemon-species/\" + pokemon).json()\n",
    "        dict_big_pokemon[pokemon] = {\"Game\" : dict_game,\n",
    "                                     \"Species\" : dict_species}\n",
    "    except:\n",
    "        print(pokemon, \"was skipped.\")"
   ]
  },
  {
   "cell_type": "code",
   "execution_count": null,
   "metadata": {},
   "outputs": [],
   "source": []
  }
 ],
 "metadata": {
  "kernelspec": {
   "display_name": "Python 3",
   "language": "python",
   "name": "python3"
  },
  "language_info": {
   "codemirror_mode": {
    "name": "ipython",
    "version": 3
   },
   "file_extension": ".py",
   "mimetype": "text/x-python",
   "name": "python",
   "nbconvert_exporter": "python",
   "pygments_lexer": "ipython3",
   "version": "3.8.5"
  }
 },
 "nbformat": 4,
 "nbformat_minor": 4
}
